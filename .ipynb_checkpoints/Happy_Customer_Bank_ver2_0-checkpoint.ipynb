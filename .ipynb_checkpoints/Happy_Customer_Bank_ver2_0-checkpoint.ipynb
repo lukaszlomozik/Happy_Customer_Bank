{
 "cells": [
  {
   "cell_type": "markdown",
   "metadata": {
    "id": "cM_2I9F5vvlo"
   },
   "source": [
    "# Importing frameworks"
   ]
  },
  {
   "cell_type": "code",
   "execution_count": 1,
   "metadata": {
    "colab": {
     "base_uri": "https://localhost:8080/"
    },
    "id": "QEKuPYiDsxMw",
    "outputId": "84f3c4ed-c669-49ea-f619-237ed6fc874e"
   },
   "outputs": [],
   "source": [
    "import pandas as pd\n",
    "pd.options.mode.chained_assignment = None \n",
    "import numpy as np\n",
    "from sklearn.model_selection import train_test_split, GridSearchCV, RandomizedSearchCV, cross_val_score\n",
    "from sklearn.impute import SimpleImputer\n",
    "from sklearn.preprocessing import StandardScaler, MinMaxScaler, OneHotEncoder, OrdinalEncoder \n",
    "from sklearn.linear_model import LogisticRegression, LinearRegression\n",
    "from sklearn.neighbors import KNeighborsClassifier\n",
    "from sklearn.metrics import accuracy_score, roc_auc_score, recall_score, precision_score, r2_score, confusion_matrix\n",
    "from sklearn.tree import DecisionTreeClassifier, plot_tree\n",
    "from sklearn.linear_model import SGDClassifier\n",
    "from sklearn.ensemble import RandomForestClassifier\n",
    "from statsmodels.stats.outliers_influence import variance_inflation_factor\n",
    "from imblearn.over_sampling import  SMOTE\n",
    "import matplotlib.pyplot as plt\n",
    "import seaborn as sns\n",
    "from sklearn.pipeline import Pipeline\n",
    "from sklearn.compose import ColumnTransformer\n",
    "from SPARQLWrapper import SPARQLWrapper, JSON\n",
    "from sklearn.base import BaseEstimator, TransformerMixin\n",
    "from xgboost import XGBClassifier\n",
    "from scipy.stats import randint as sp_randint\n"
   ]
  },
  {
   "cell_type": "markdown",
   "metadata": {
    "id": "J3WzdOT9umDM"
   },
   "source": [
    "\n",
    "# Importing a datasets"
   ]
  },
  {
   "cell_type": "code",
   "execution_count": 2,
   "metadata": {
    "id": "J-wqwtybsuLi"
   },
   "outputs": [],
   "source": [
    "#data for training the model\n",
    "train = pd.read_csv('https://raw.githubusercontent.com/saimadhu-polamuri/DataHakthon3X/master/dataSet/Train.csv', encoding='ISO-8859–1')\n",
    "\n",
    "#data for testing \n",
    "test = pd.read_csv('https://raw.githubusercontent.com/saimadhu-polamuri/DataHakthon3X/master/dataSet/Test.csv', encoding='ISO-8859–1')"
   ]
  },
  {
   "cell_type": "markdown",
   "metadata": {
    "id": "lr_rmnRRvgrE"
   },
   "source": [
    "# Data description"
   ]
  },
  {
   "cell_type": "markdown",
   "metadata": {
    "id": "__h-0XmHvoKg"
   },
   "source": [
    "## Input variables:\n",
    "**vID** - Unique ID (can not be used for predictions)\n",
    "\n",
    "**Gender** - Sex\n",
    "\n",
    "**City** - Current City\n",
    "\n",
    "**Monthly_Income** - Monthly Income in rupees\n",
    "\n",
    "**DOB** - Date of Birth\n",
    "\n",
    "**Lead_Creation_Date** - Lead Created on date\n",
    "\n",
    "**Loan_Amount_Applied** - Loan Amount Requested (INR)\n",
    "\n",
    "**Loan_Tenure_Applied** - Loan Tenure Requested (in years)\n",
    "\n",
    "**Existing_EMI** - EMI of Existing Loans (INR)\n",
    "\n",
    "**Employer_Name** - Employer Name\n",
    "\n",
    "**Salary_Account** - Salary account with Bank\n",
    "\n",
    "**Mobile_Verified** - Mobile Verified (Y/N)\n",
    "\n",
    "**Var5** - Continuous classified variable\n",
    "\n",
    "**Var1** - Categorical variable with multiple levels\n",
    "\n",
    "**Loan_Amount_Submitted** - Loan Amount Revised and Selected after seeing Eligibility\n",
    "\n",
    "**Loan_Tenure_Submitted** - Loan Tenure Revised and Selected after seeing Eligibility (Years)\n",
    "\n",
    "**Interest_Rate** - Interest Rate of Submitted Loan Amount\n",
    "\n",
    "**Processing_Fee** - Processing Fee of Submitted Loan Amount (INR)\n",
    "\n",
    "**EMI_Loan_Submitted** - EMI of Submitted Loan Amount (INR)\n",
    "\n",
    "**Filled_Form** - Filled Application form post quote\n",
    "\n",
    "**Device_Type** - Device from which application was made (Browser/ Mobile)\n",
    "\n",
    "**Var2** - Categorical Variable with multiple Levels\n",
    "\n",
    "**Source** - Categorical Variable with multiple Levels\n",
    "\n",
    "**Var4** - Categorical Variable with multiple Levels"
   ]
  },
  {
   "cell_type": "markdown",
   "metadata": {
    "id": "gLujAWgKwvx2"
   },
   "source": [
    "## Outcomes:\n",
    "\n",
    "**LoggedIn**- Application Logged (Variable for understanding the problem – cannot be used in prediction)\n",
    "\n",
    "**Disbursed**- Loan Disbursed (Target Variable)"
   ]
  },
  {
   "cell_type": "markdown",
   "metadata": {
    "id": "lqeDpbQayVVM"
   },
   "source": [
    "# Target\n",
    "## **Identify the customers segments having higher conversion ratio for a specific loan product** "
   ]
  },
  {
   "cell_type": "code",
   "execution_count": 3,
   "metadata": {
    "id": "JqTy_lZnelkK"
   },
   "outputs": [],
   "source": [
    "df = train.copy()[:1000]"
   ]
  },
  {
   "cell_type": "code",
   "execution_count": 4,
   "metadata": {
    "colab": {
     "base_uri": "https://localhost:8080/"
    },
    "id": "OBw-0MTGFd53",
    "outputId": "e3d8379c-91c8-4e76-d325-ca732c3284bf"
   },
   "outputs": [
    {
     "data": {
      "text/plain": [
       "(1000, 26)"
      ]
     },
     "execution_count": 4,
     "metadata": {},
     "output_type": "execute_result"
    }
   ],
   "source": [
    "df.shape"
   ]
  },
  {
   "cell_type": "code",
   "execution_count": 5,
   "metadata": {
    "colab": {
     "base_uri": "https://localhost:8080/",
     "height": 490
    },
    "id": "q1yJe4TkFfFh",
    "outputId": "d1c7193b-2ef2-4b30-c651-868ec32efa15"
   },
   "outputs": [
    {
     "data": {
      "text/html": [
       "<div>\n",
       "<style scoped>\n",
       "    .dataframe tbody tr th:only-of-type {\n",
       "        vertical-align: middle;\n",
       "    }\n",
       "\n",
       "    .dataframe tbody tr th {\n",
       "        vertical-align: top;\n",
       "    }\n",
       "\n",
       "    .dataframe thead th {\n",
       "        text-align: right;\n",
       "    }\n",
       "</style>\n",
       "<table border=\"1\" class=\"dataframe\">\n",
       "  <thead>\n",
       "    <tr style=\"text-align: right;\">\n",
       "      <th></th>\n",
       "      <th>ID</th>\n",
       "      <th>Gender</th>\n",
       "      <th>City</th>\n",
       "      <th>Monthly_Income</th>\n",
       "      <th>DOB</th>\n",
       "      <th>Lead_Creation_Date</th>\n",
       "      <th>Loan_Amount_Applied</th>\n",
       "      <th>Loan_Tenure_Applied</th>\n",
       "      <th>Existing_EMI</th>\n",
       "      <th>Employer_Name</th>\n",
       "      <th>...</th>\n",
       "      <th>Interest_Rate</th>\n",
       "      <th>Processing_Fee</th>\n",
       "      <th>EMI_Loan_Submitted</th>\n",
       "      <th>Filled_Form</th>\n",
       "      <th>Device_Type</th>\n",
       "      <th>Var2</th>\n",
       "      <th>Source</th>\n",
       "      <th>Var4</th>\n",
       "      <th>LoggedIn</th>\n",
       "      <th>Disbursed</th>\n",
       "    </tr>\n",
       "  </thead>\n",
       "  <tbody>\n",
       "    <tr>\n",
       "      <th>0</th>\n",
       "      <td>ID000002C20</td>\n",
       "      <td>Female</td>\n",
       "      <td>Delhi</td>\n",
       "      <td>20000</td>\n",
       "      <td>23-May-78</td>\n",
       "      <td>15-May-15</td>\n",
       "      <td>300000.0</td>\n",
       "      <td>5.0</td>\n",
       "      <td>0.0</td>\n",
       "      <td>CYBOSOL</td>\n",
       "      <td>...</td>\n",
       "      <td>NaN</td>\n",
       "      <td>NaN</td>\n",
       "      <td>NaN</td>\n",
       "      <td>N</td>\n",
       "      <td>Web-browser</td>\n",
       "      <td>G</td>\n",
       "      <td>S122</td>\n",
       "      <td>1</td>\n",
       "      <td>0</td>\n",
       "      <td>0</td>\n",
       "    </tr>\n",
       "    <tr>\n",
       "      <th>1</th>\n",
       "      <td>ID000004E40</td>\n",
       "      <td>Male</td>\n",
       "      <td>Mumbai</td>\n",
       "      <td>35000</td>\n",
       "      <td>07-Oct-85</td>\n",
       "      <td>04-May-15</td>\n",
       "      <td>200000.0</td>\n",
       "      <td>2.0</td>\n",
       "      <td>0.0</td>\n",
       "      <td>TATA CONSULTANCY SERVICES LTD (TCS)</td>\n",
       "      <td>...</td>\n",
       "      <td>13.25</td>\n",
       "      <td>NaN</td>\n",
       "      <td>6762.9</td>\n",
       "      <td>N</td>\n",
       "      <td>Web-browser</td>\n",
       "      <td>G</td>\n",
       "      <td>S122</td>\n",
       "      <td>3</td>\n",
       "      <td>0</td>\n",
       "      <td>0</td>\n",
       "    </tr>\n",
       "    <tr>\n",
       "      <th>2</th>\n",
       "      <td>ID000007H20</td>\n",
       "      <td>Male</td>\n",
       "      <td>Panchkula</td>\n",
       "      <td>22500</td>\n",
       "      <td>10-Oct-81</td>\n",
       "      <td>19-May-15</td>\n",
       "      <td>600000.0</td>\n",
       "      <td>4.0</td>\n",
       "      <td>0.0</td>\n",
       "      <td>ALCHEMIST HOSPITALS LTD</td>\n",
       "      <td>...</td>\n",
       "      <td>NaN</td>\n",
       "      <td>NaN</td>\n",
       "      <td>NaN</td>\n",
       "      <td>N</td>\n",
       "      <td>Web-browser</td>\n",
       "      <td>B</td>\n",
       "      <td>S143</td>\n",
       "      <td>1</td>\n",
       "      <td>0</td>\n",
       "      <td>0</td>\n",
       "    </tr>\n",
       "    <tr>\n",
       "      <th>3</th>\n",
       "      <td>ID000008I30</td>\n",
       "      <td>Male</td>\n",
       "      <td>Saharsa</td>\n",
       "      <td>35000</td>\n",
       "      <td>30-Nov-87</td>\n",
       "      <td>09-May-15</td>\n",
       "      <td>1000000.0</td>\n",
       "      <td>5.0</td>\n",
       "      <td>0.0</td>\n",
       "      <td>BIHAR GOVERNMENT</td>\n",
       "      <td>...</td>\n",
       "      <td>NaN</td>\n",
       "      <td>NaN</td>\n",
       "      <td>NaN</td>\n",
       "      <td>N</td>\n",
       "      <td>Web-browser</td>\n",
       "      <td>B</td>\n",
       "      <td>S143</td>\n",
       "      <td>3</td>\n",
       "      <td>0</td>\n",
       "      <td>0</td>\n",
       "    </tr>\n",
       "    <tr>\n",
       "      <th>4</th>\n",
       "      <td>ID000009J40</td>\n",
       "      <td>Male</td>\n",
       "      <td>Bengaluru</td>\n",
       "      <td>100000</td>\n",
       "      <td>17-Feb-84</td>\n",
       "      <td>20-May-15</td>\n",
       "      <td>500000.0</td>\n",
       "      <td>2.0</td>\n",
       "      <td>25000.0</td>\n",
       "      <td>GLOBAL EDGE SOFTWARE</td>\n",
       "      <td>...</td>\n",
       "      <td>NaN</td>\n",
       "      <td>NaN</td>\n",
       "      <td>NaN</td>\n",
       "      <td>N</td>\n",
       "      <td>Web-browser</td>\n",
       "      <td>B</td>\n",
       "      <td>S134</td>\n",
       "      <td>3</td>\n",
       "      <td>1</td>\n",
       "      <td>0</td>\n",
       "    </tr>\n",
       "  </tbody>\n",
       "</table>\n",
       "<p>5 rows × 26 columns</p>\n",
       "</div>"
      ],
      "text/plain": [
       "            ID  Gender       City  Monthly_Income        DOB  \\\n",
       "0  ID000002C20  Female      Delhi           20000  23-May-78   \n",
       "1  ID000004E40    Male     Mumbai           35000  07-Oct-85   \n",
       "2  ID000007H20    Male  Panchkula           22500  10-Oct-81   \n",
       "3  ID000008I30    Male    Saharsa           35000  30-Nov-87   \n",
       "4  ID000009J40    Male  Bengaluru          100000  17-Feb-84   \n",
       "\n",
       "  Lead_Creation_Date  Loan_Amount_Applied  Loan_Tenure_Applied  Existing_EMI  \\\n",
       "0          15-May-15             300000.0                  5.0           0.0   \n",
       "1          04-May-15             200000.0                  2.0           0.0   \n",
       "2          19-May-15             600000.0                  4.0           0.0   \n",
       "3          09-May-15            1000000.0                  5.0           0.0   \n",
       "4          20-May-15             500000.0                  2.0       25000.0   \n",
       "\n",
       "                         Employer_Name  ... Interest_Rate Processing_Fee  \\\n",
       "0                              CYBOSOL  ...           NaN            NaN   \n",
       "1  TATA CONSULTANCY SERVICES LTD (TCS)  ...         13.25            NaN   \n",
       "2              ALCHEMIST HOSPITALS LTD  ...           NaN            NaN   \n",
       "3                     BIHAR GOVERNMENT  ...           NaN            NaN   \n",
       "4                 GLOBAL EDGE SOFTWARE  ...           NaN            NaN   \n",
       "\n",
       "   EMI_Loan_Submitted Filled_Form  Device_Type  Var2  Source  Var4  LoggedIn  \\\n",
       "0                 NaN           N  Web-browser     G    S122     1         0   \n",
       "1              6762.9           N  Web-browser     G    S122     3         0   \n",
       "2                 NaN           N  Web-browser     B    S143     1         0   \n",
       "3                 NaN           N  Web-browser     B    S143     3         0   \n",
       "4                 NaN           N  Web-browser     B    S134     3         1   \n",
       "\n",
       "  Disbursed  \n",
       "0         0  \n",
       "1         0  \n",
       "2         0  \n",
       "3         0  \n",
       "4         0  \n",
       "\n",
       "[5 rows x 26 columns]"
      ]
     },
     "execution_count": 5,
     "metadata": {},
     "output_type": "execute_result"
    }
   ],
   "source": [
    "df.head()"
   ]
  },
  {
   "cell_type": "code",
   "execution_count": 6,
   "metadata": {
    "colab": {
     "base_uri": "https://localhost:8080/"
    },
    "id": "PSRE54IkemRy",
    "outputId": "f90b77e6-ebb0-46e4-c264-7ad064215c94"
   },
   "outputs": [
    {
     "name": "stdout",
     "output_type": "stream",
     "text": [
      "<class 'pandas.core.frame.DataFrame'>\n",
      "RangeIndex: 1000 entries, 0 to 999\n",
      "Data columns (total 26 columns):\n",
      " #   Column                 Non-Null Count  Dtype  \n",
      "---  ------                 --------------  -----  \n",
      " 0   ID                     1000 non-null   object \n",
      " 1   Gender                 1000 non-null   object \n",
      " 2   City                   1000 non-null   object \n",
      " 3   Monthly_Income         1000 non-null   int64  \n",
      " 4   DOB                    1000 non-null   object \n",
      " 5   Lead_Creation_Date     1000 non-null   object \n",
      " 6   Loan_Amount_Applied    1000 non-null   float64\n",
      " 7   Loan_Tenure_Applied    1000 non-null   float64\n",
      " 8   Existing_EMI           1000 non-null   float64\n",
      " 9   Employer_Name          1000 non-null   object \n",
      " 10  Salary_Account         934 non-null    object \n",
      " 11  Mobile_Verified        1000 non-null   object \n",
      " 12  Var5                   1000 non-null   int64  \n",
      " 13  Var1                   1000 non-null   object \n",
      " 14  Loan_Amount_Submitted  669 non-null    float64\n",
      " 15  Loan_Tenure_Submitted  669 non-null    float64\n",
      " 16  Interest_Rate          384 non-null    float64\n",
      " 17  Processing_Fee         350 non-null    float64\n",
      " 18  EMI_Loan_Submitted     384 non-null    float64\n",
      " 19  Filled_Form            1000 non-null   object \n",
      " 20  Device_Type            1000 non-null   object \n",
      " 21  Var2                   1000 non-null   object \n",
      " 22  Source                 1000 non-null   object \n",
      " 23  Var4                   1000 non-null   int64  \n",
      " 24  LoggedIn               1000 non-null   int64  \n",
      " 25  Disbursed              1000 non-null   int64  \n",
      "dtypes: float64(8), int64(5), object(13)\n",
      "memory usage: 203.2+ KB\n"
     ]
    }
   ],
   "source": [
    "df.info()"
   ]
  },
  {
   "cell_type": "markdown",
   "metadata": {
    "id": "t_VGP3n6yqqU"
   },
   "source": [
    "## Target variable distribution"
   ]
  },
  {
   "cell_type": "code",
   "execution_count": 7,
   "metadata": {
    "colab": {
     "base_uri": "https://localhost:8080/"
    },
    "id": "9BvmIIRkwo8G",
    "outputId": "55c7fe60-11b2-498d-97c2-1cc6f48c64e1"
   },
   "outputs": [
    {
     "name": "stdout",
     "output_type": "stream",
     "text": [
      "0    0.989\n",
      "1    0.011\n",
      "Name: Disbursed, dtype: float64\n"
     ]
    }
   ],
   "source": [
    "print(df['Disbursed'].value_counts(normalize=True))"
   ]
  },
  {
   "cell_type": "markdown",
   "metadata": {
    "id": "dfZB5d1EDVg5"
   },
   "source": [
    "Dataset shows a large class imbalance. Only 1.4% of the study population had disbursed loans."
   ]
  },
  {
   "cell_type": "markdown",
   "metadata": {
    "id": "4P4DOENIdf6R"
   },
   "source": [
    "# Feature transformation  and selection"
   ]
  },
  {
   "cell_type": "code",
   "execution_count": 8,
   "metadata": {
    "id": "uf0ajOeIxlng"
   },
   "outputs": [],
   "source": [
    "to_remove = ['ID', 'LoggedIn', 'Employer_Name', 'Source', 'Processing_Fee']\n",
    "df = df.drop(to_remove, axis=1)"
   ]
  },
  {
   "cell_type": "markdown",
   "metadata": {
    "id": "F04UxwDgaBLE"
   },
   "source": [
    "## City"
   ]
  },
  {
   "cell_type": "code",
   "execution_count": 9,
   "metadata": {
    "id": "rJ_1Iw9Q8Tpp"
   },
   "outputs": [],
   "source": [
    "def get_population(city):\n",
    "    query = \"\"\"\n",
    "SELECT ?population WHERE {\n",
    "  SERVICE wikibase:mwapi {\n",
    "      bd:serviceParam mwapi:search'\"\"\" + city + \"\"\"'.    \n",
    "      bd:serviceParam mwapi:language \"en\" .    \n",
    "      bd:serviceParam wikibase:api \"EntitySearch\" .\n",
    "      bd:serviceParam wikibase:endpoint \"www.wikidata.org\" .\n",
    "      bd:serviceParam wikibase:limit 1 .\n",
    "      ?item wikibase:apiOutputItem mwapi:item .\n",
    "  }\n",
    "  ?item wdt:P1082 ?population\n",
    "}\n",
    "    \"\"\" \n",
    "    sparql = SPARQLWrapper(\"https://query.wikidata.org/sparql\",\\\n",
    "                           agent = \"Mozilla/5.0 (X11; Linux x86_64)\\\n",
    "                            AppleWebKit/537.11 (KHTML, like Gecko)\\\n",
    "                             Chrome/23.0.1271.64 Safari/537.11\")\n",
    "    sparql.setQuery(query)\n",
    "    sparql.setReturnFormat(JSON)\n",
    "    result = sparql.query().convert()\n",
    "    try:\n",
    "          out = int(result['results']['bindings'][0][\"population\"][\"value\"])\n",
    "    except IndexError:\n",
    "          out = np.nan\n",
    "    return out"
   ]
  },
  {
   "cell_type": "code",
   "execution_count": 10,
   "metadata": {
    "id": "ccpZRbkT_hrI"
   },
   "outputs": [],
   "source": [
    "def make_cities_df(data):\n",
    "    try:\n",
    "        population = {'city_name' : data.unique(), 'population' :\\\n",
    "                  [get_population(str(city)) for city in data.unique()]}\n",
    "    except OSError:\n",
    "        population = {'city_name' : data.unique(), 'population' : np.nan}\n",
    "    return pd.DataFrame(population)\n"
   ]
  },
  {
   "cell_type": "code",
   "execution_count": 11,
   "metadata": {
    "id": "_MoJ5HB7ildG"
   },
   "outputs": [],
   "source": [
    "def calc_number_of_occurrences(data, drop=False):\n",
    "    count = pd.DataFrame( {'name': data.value_counts(sort=False).keys(),\\\n",
    "                         'number_of_occurrences' : data.value_counts(sort=False).values})\n",
    "    if drop == True:\n",
    "        count = count.drop(['name'], axis=1)\n",
    "    return count"
   ]
  },
  {
   "cell_type": "code",
   "execution_count": 12,
   "metadata": {
    "id": "YEzc0Ef6oTUl"
   },
   "outputs": [],
   "source": [
    "def calc_quantiles(data, Q1=0.30, Q2=0.70, numeric_only=True):\n",
    "    Q1 = data.quantile(Q1)\n",
    "    Q2 = data.quantile(Q2)\n",
    "    return Q1, Q2 "
   ]
  },
  {
   "cell_type": "code",
   "execution_count": 13,
   "metadata": {
    "id": "4MPLaPUqpnAo"
   },
   "outputs": [],
   "source": [
    "def create_categories(cities, Q1, Q2):\n",
    "    cities['city_size'] = np.nan\n",
    "\n",
    "    number = cities['number_of_occurrences'] \n",
    "    pop = cities['population']\n",
    "\n",
    "    cities['city_size'].loc[pop <= Q1['population']] = 'small'\n",
    "    cities['city_size'].loc[pop > Q1['population']] = 'medium'\n",
    "    cities['city_size'].loc[pop > Q2['population']] = 'big'\n",
    "\n",
    "    empty = cities.loc[cities['city_size'].isnull() == True]\n",
    "\n",
    "    empty['city_size'].loc[number <= Q1['number_of_occurrences']] = 'small'\n",
    "    empty['city_size'].loc[number > Q1['number_of_occurrences']] = 'medium'\n",
    "    empty['city_size'].loc[number > Q2['number_of_occurrences']] = 'big'\n",
    "\n",
    "    cities['city_size'].loc[cities['city_size'].isnull() == True] = empty['city_size']\n",
    "    return cities \n"
   ]
  },
  {
   "cell_type": "code",
   "execution_count": 14,
   "metadata": {
    "colab": {
     "base_uri": "https://localhost:8080/",
     "height": 423
    },
    "id": "PCM0ROjSTpQc",
    "outputId": "e572b1a0-00b8-4995-dd93-517b71739945"
   },
   "outputs": [
    {
     "data": {
      "text/html": [
       "<div>\n",
       "<style scoped>\n",
       "    .dataframe tbody tr th:only-of-type {\n",
       "        vertical-align: middle;\n",
       "    }\n",
       "\n",
       "    .dataframe tbody tr th {\n",
       "        vertical-align: top;\n",
       "    }\n",
       "\n",
       "    .dataframe thead th {\n",
       "        text-align: right;\n",
       "    }\n",
       "</style>\n",
       "<table border=\"1\" class=\"dataframe\">\n",
       "  <thead>\n",
       "    <tr style=\"text-align: right;\">\n",
       "      <th></th>\n",
       "      <th>city_name</th>\n",
       "      <th>population</th>\n",
       "      <th>number_of_occurrences</th>\n",
       "      <th>city_size</th>\n",
       "    </tr>\n",
       "  </thead>\n",
       "  <tbody>\n",
       "    <tr>\n",
       "      <th>0</th>\n",
       "      <td>Delhi</td>\n",
       "      <td>26495000.0</td>\n",
       "      <td>157</td>\n",
       "      <td>big</td>\n",
       "    </tr>\n",
       "    <tr>\n",
       "      <th>1</th>\n",
       "      <td>Mumbai</td>\n",
       "      <td>15414288.0</td>\n",
       "      <td>125</td>\n",
       "      <td>big</td>\n",
       "    </tr>\n",
       "    <tr>\n",
       "      <th>2</th>\n",
       "      <td>Panchkula</td>\n",
       "      <td>NaN</td>\n",
       "      <td>2</td>\n",
       "      <td>medium</td>\n",
       "    </tr>\n",
       "    <tr>\n",
       "      <th>3</th>\n",
       "      <td>Saharsa</td>\n",
       "      <td>156540.0</td>\n",
       "      <td>1</td>\n",
       "      <td>small</td>\n",
       "    </tr>\n",
       "    <tr>\n",
       "      <th>4</th>\n",
       "      <td>Bengaluru</td>\n",
       "      <td>11250000.0</td>\n",
       "      <td>105</td>\n",
       "      <td>big</td>\n",
       "    </tr>\n",
       "    <tr>\n",
       "      <th>...</th>\n",
       "      <td>...</td>\n",
       "      <td>...</td>\n",
       "      <td>...</td>\n",
       "      <td>...</td>\n",
       "    </tr>\n",
       "    <tr>\n",
       "      <th>153</th>\n",
       "      <td>West Godavari</td>\n",
       "      <td>3936966.0</td>\n",
       "      <td>1</td>\n",
       "      <td>big</td>\n",
       "    </tr>\n",
       "    <tr>\n",
       "      <th>154</th>\n",
       "      <td>East Khasi Hills</td>\n",
       "      <td>825922.0</td>\n",
       "      <td>1</td>\n",
       "      <td>medium</td>\n",
       "    </tr>\n",
       "    <tr>\n",
       "      <th>155</th>\n",
       "      <td>Karnal</td>\n",
       "      <td>NaN</td>\n",
       "      <td>1</td>\n",
       "      <td>small</td>\n",
       "    </tr>\n",
       "    <tr>\n",
       "      <th>156</th>\n",
       "      <td>Jharsuguda</td>\n",
       "      <td>NaN</td>\n",
       "      <td>2</td>\n",
       "      <td>medium</td>\n",
       "    </tr>\n",
       "    <tr>\n",
       "      <th>157</th>\n",
       "      <td>Wayanad</td>\n",
       "      <td>817420.0</td>\n",
       "      <td>1</td>\n",
       "      <td>medium</td>\n",
       "    </tr>\n",
       "  </tbody>\n",
       "</table>\n",
       "<p>158 rows × 4 columns</p>\n",
       "</div>"
      ],
      "text/plain": [
       "            city_name  population  number_of_occurrences city_size\n",
       "0               Delhi  26495000.0                    157       big\n",
       "1              Mumbai  15414288.0                    125       big\n",
       "2           Panchkula         NaN                      2    medium\n",
       "3             Saharsa    156540.0                      1     small\n",
       "4           Bengaluru  11250000.0                    105       big\n",
       "..                ...         ...                    ...       ...\n",
       "153     West Godavari   3936966.0                      1       big\n",
       "154  East Khasi Hills    825922.0                      1    medium\n",
       "155            Karnal         NaN                      1     small\n",
       "156        Jharsuguda         NaN                      2    medium\n",
       "157           Wayanad    817420.0                      1    medium\n",
       "\n",
       "[158 rows x 4 columns]"
      ]
     },
     "execution_count": 14,
     "metadata": {},
     "output_type": "execute_result"
    }
   ],
   "source": [
    "cities = make_cities_df(df['City'])\n",
    "count = calc_number_of_occurrences(df['City'], drop=True)\n",
    "cities = pd.concat([cities, count], axis=1)\n",
    "Q1_cities, Q2_cities = calc_quantiles(cities)\n",
    "cities = create_categories(cities, Q1_cities, Q2_cities)\n",
    "cities"
   ]
  },
  {
   "cell_type": "code",
   "execution_count": 15,
   "metadata": {
    "id": "zocRkjOeiWL3"
   },
   "outputs": [],
   "source": [
    "size = {}\n",
    "for i, n in enumerate(cities['city_name']):\n",
    "    size[n] = cities['city_size'][i]\n",
    "\n",
    "df['City'] = df['City'].map(size).fillna('medium')\n",
    "\n",
    "\n",
    "df = df.drop(['City'], axis=1)"
   ]
  },
  {
   "cell_type": "markdown",
   "metadata": {
    "id": "6nPp7pGo_QPp"
   },
   "source": [
    "## DOB"
   ]
  },
  {
   "cell_type": "code",
   "execution_count": 16,
   "metadata": {
    "id": "Xz0cgavWKZz7"
   },
   "outputs": [],
   "source": [
    "def date_to_years(df, current_date):\n",
    "    years = []\n",
    "    for i in range(len(df)):\n",
    "        years.append(pd.Timestamp(df[i]).year)\n",
    "        if years[i] > current_date[i]: #Timestamp function error protection  \n",
    "            years[i] = years[i] - 100 \n",
    "        years[i] = current_date[i] - years[i] \n",
    "    return years\n"
   ]
  },
  {
   "cell_type": "code",
   "execution_count": 17,
   "metadata": {
    "id": "GMJ2SDQW_ZUU"
   },
   "outputs": [],
   "source": [
    "years = []\n",
    "for year in df['Lead_Creation_Date']:\n",
    "    years.append(pd.Timestamp(year).year)\n",
    "\n",
    "df['age'] = date_to_years(df['DOB'], years)\n",
    "df = df.drop(['DOB'], axis=1)\n"
   ]
  },
  {
   "cell_type": "markdown",
   "metadata": {
    "id": "uIMjNcWlTLVy"
   },
   "source": [
    "## Salary_Account"
   ]
  },
  {
   "cell_type": "code",
   "execution_count": 18,
   "metadata": {
    "id": "DU_1ohdVUO0F"
   },
   "outputs": [],
   "source": [
    "def create_categories_salary(count, Q1_Salary_Account, Q2_Salary_Account):\n",
    "    count['category'] = np.nan\n",
    "    count['category'].loc[count['number_of_occurrences'] <= Q1_Salary_Account[0]] = 'small'\n",
    "    count['category'].loc[count['number_of_occurrences'] > Q1_Salary_Account[0]] = 'medium'\n",
    "    count['category'].loc[count['number_of_occurrences'] > Q2_Salary_Account[0]] = 'big'\n",
    "\n",
    "    return count"
   ]
  },
  {
   "cell_type": "code",
   "execution_count": 19,
   "metadata": {
    "id": "0nBknrnSsMvq"
   },
   "outputs": [],
   "source": [
    "count = calc_number_of_occurrences(df['Salary_Account'])\n",
    "Q1_Salary_Account, Q2_Salary_Account = calc_quantiles(count, Q1=0.90, Q2=0.97)\n",
    "count = create_categories_salary(count, Q1_Salary_Account, Q2_Salary_Account)\n",
    "size = {}\n",
    "for i, n in enumerate(count['name']):\n",
    "    size[n] = count['category'][i]\n",
    "size\n",
    "df['Salary_Account'] = df['Salary_Account'].map(size).fillna('big')\n",
    "\n"
   ]
  },
  {
   "cell_type": "markdown",
   "metadata": {
    "id": "AGjzOu9Hn8vB"
   },
   "source": [
    "## Loan_Tenure_Applied & Loan_Amount_Applied"
   ]
  },
  {
   "cell_type": "code",
   "execution_count": 20,
   "metadata": {
    "id": "WaQ6rnyS1ukh"
   },
   "outputs": [],
   "source": [
    "df['Loan_Tenure_Applied'].loc[df['Loan_Tenure_Applied'].isnull()]\\\n",
    " = df['Loan_Tenure_Submitted'].loc[df['Loan_Tenure_Applied'].isnull()]\n",
    "\n",
    "df['Loan_Amount_Applied'].loc[df['Loan_Amount_Applied'].isnull()]\\\n",
    " = df['Loan_Amount_Submitted'].loc[df['Loan_Amount_Submitted'].isnull()]"
   ]
  },
  {
   "cell_type": "markdown",
   "metadata": {
    "id": "S6DUtiGb7czY"
   },
   "source": [
    "## Interest_Rate"
   ]
  },
  {
   "cell_type": "code",
   "execution_count": 21,
   "metadata": {
    "colab": {
     "base_uri": "https://localhost:8080/",
     "height": 265
    },
    "id": "JHefcwAnxGq_",
    "outputId": "0950e535-41a5-4bb4-b826-f49986bd68a5"
   },
   "outputs": [
    {
     "data": {
      "image/png": "[encoded data removed]",
      "text/plain": [
       "<Figure size 432x288 with 1 Axes>"
      ]
     },
     "metadata": {
      "needs_background": "light"
     },
     "output_type": "display_data"
    }
   ],
   "source": [
    "df['Interest_Rate'].hist()\n",
    "plt.show()"
   ]
  },
  {
   "cell_type": "code",
   "execution_count": 22,
   "metadata": {
    "colab": {
     "base_uri": "https://localhost:8080/"
    },
    "id": "haDY9W_d3uyd",
    "outputId": "d3a8bec5-c6f3-4b24-d567-a89691f38a2b"
   },
   "outputs": [
    {
     "data": {
      "text/plain": [
       "18.001145833333336"
      ]
     },
     "execution_count": 22,
     "metadata": {},
     "output_type": "execute_result"
    }
   ],
   "source": [
    "df['Interest_Rate'].mean()"
   ]
  },
  {
   "cell_type": "code",
   "execution_count": 23,
   "metadata": {
    "id": "mY6-NFT6335l"
   },
   "outputs": [],
   "source": [
    "Interest_Rate_imp = SimpleImputer(missing_values=np.nan, strategy='mean')\n",
    "df['Interest_Rate'] = Interest_Rate_imp.fit_transform(df[['Interest_Rate']])"
   ]
  },
  {
   "cell_type": "markdown",
   "metadata": {},
   "source": [
    "## Data transformation"
   ]
  },
  {
   "cell_type": "code",
   "execution_count": 24,
   "metadata": {
    "id": "ZVnYSZeLz5E2"
   },
   "outputs": [],
   "source": [
    "class VIF (BaseEstimator, TransformerMixin):\n",
    "    \n",
    "    def __init__(self):\n",
    "        self.correlated_data = []\n",
    "        return\n",
    "\n",
    "    def calc_vif(self, X):  \n",
    "        vif_data = pd.DataFrame()\n",
    "        vif_data['feature'] = X.columns\n",
    "        vif_data['VIF'] = [variance_inflation_factor(X.values, i)\n",
    "                              for i in range(len(X.columns))]\n",
    "        return vif_data\n",
    "\n",
    "    def remove_correlated_data(self, X):\n",
    "        self.correlated_data = []\n",
    "        vif = self.calc_vif(X)\n",
    "        to_remove = vif['feature'].loc[vif['VIF'] == max(vif['VIF'])]\n",
    "        X = X.drop(to_remove.values, axis=1)\n",
    "        self.correlated_data.append(to_remove.values)\n",
    "        return X\n",
    "\n",
    "    def fit(self, X, y=None, **kwargs):\n",
    "        X = pd.DataFrame(X, columns=pipe_vif[:-1].get_feature_names_out())  \n",
    "        while len(self.calc_vif(X)['feature'].\n",
    "              loc[self.calc_vif(X)['VIF'] > 10]) > 0:\n",
    "            X = self.remove_correlated_data(X)\n",
    "        return self\n",
    "\n",
    "    def transform(self, X, y=None, **kwargs):\n",
    "        X = pd.DataFrame(X, columns = pipe_vif[:-1].get_feature_names_out())\n",
    "        for i in self.correlated_data:\n",
    "            X = X.drop(i, axis=1)\n",
    "        return X\n",
    "\n",
    "    def fit_transform(self, X, y=None, **kwargs):\n",
    "        self.fit(X)\n",
    "        return self.transform(X)\n",
    "\n"
   ]
  },
  {
   "cell_type": "code",
   "execution_count": 25,
   "metadata": {},
   "outputs": [],
   "source": [
    "class MyTransformer:\n",
    "\n",
    "    def __init__(self, transformer):\n",
    "        self.transformer = transformer\n",
    "    \n",
    "    def fit(self, X, y=None, **kwargs):\n",
    "        X = pd.DataFrame(X)\n",
    "        self.transformer = ColumnTransformer([('transformer', self.transformer, X.keys())],\n",
    "                                         verbose_feature_names_out=False, remainder='passthrough')\n",
    "        self.transformer = self.transformer.fit(X)\n",
    "        return self\n",
    "\n",
    "    def transform(self, X, y=None, **kwargs):\n",
    "        return pd.DataFrame(self.transformer.transform(X), \n",
    "                        columns=self.transformer.get_feature_names_out())\n",
    "\n",
    "    def fit_transform(self, X, y=None, **kwargs):\n",
    "        self.fit(X)\n",
    "        return self.transform(X)\n",
    "\n",
    "    def get_feature_names_out(self, input_features=None):\n",
    "        return self.transformer.get_feature_names_out()"
   ]
  },
  {
   "cell_type": "code",
   "execution_count": 26,
   "metadata": {
    "id": "BHFWRuH6DfE1"
   },
   "outputs": [],
   "source": [
    "df = df.drop(['Lead_Creation_Date'], axis=1)"
   ]
  },
  {
   "cell_type": "code",
   "execution_count": 27,
   "metadata": {
    "id": "x4D5TLooIF0Q"
   },
   "outputs": [],
   "source": [
    "X = df.drop(['Disbursed'], axis=1)\n",
    "y = df['Disbursed']"
   ]
  },
  {
   "cell_type": "code",
   "execution_count": 28,
   "metadata": {
    "id": "ZTX5YGnhXRfO"
   },
   "outputs": [],
   "source": [
    "cols_numerical = X.select_dtypes(include=['int64', 'float64']).columns\n",
    " \n",
    "transformer_numerical = Pipeline(steps = [('Imputer_num', \n",
    "                                           MyTransformer(SimpleImputer(missing_values=np.nan, \n",
    "                                                         strategy='constant',\n",
    "                                                         fill_value=0))),\n",
    "                                           ('Scaler',\n",
    "                                            MyTransformer(StandardScaler()))])\n",
    "\n",
    "cols_categorical = X.select_dtypes(include=['object']).columns\n",
    " \n",
    "transformer_categorical = Pipeline(steps = [('Imputer_cat',\n",
    "                                             MyTransformer(SimpleImputer(missing_values=np.nan,\n",
    "                                                           strategy='most_frequent'))),\n",
    "                                             ('Encoder', MyTransformer(OneHotEncoder(drop ='first',\n",
    "                                                             handle_unknown='ignore', sparse=False)))])"
   ]
  },
  {
   "cell_type": "code",
   "execution_count": 29,
   "metadata": {
    "id": "rzfxVW7GbGKm"
   },
   "outputs": [],
   "source": [
    "preprocessor = ColumnTransformer(transformers = [\n",
    "    ('numerical', transformer_numerical, cols_numerical),\n",
    "    ('categorical', transformer_categorical, cols_categorical)\n",
    "], verbose_feature_names_out=False)"
   ]
  },
  {
   "cell_type": "code",
   "execution_count": 30,
   "metadata": {
    "id": "3ZDkq3JQWEZk"
   },
   "outputs": [],
   "source": [
    "pipe_vif = Pipeline(steps = [('preprocessor', preprocessor),\n",
    "                         ('vif', VIF())])\n",
    "X = pipe_vif.fit_transform(X)"
   ]
  },
  {
   "cell_type": "code",
   "execution_count": 31,
   "metadata": {},
   "outputs": [
    {
     "data": {
      "text/html": [
       "<div>\n",
       "<style scoped>\n",
       "    .dataframe tbody tr th:only-of-type {\n",
       "        vertical-align: middle;\n",
       "    }\n",
       "\n",
       "    .dataframe tbody tr th {\n",
       "        vertical-align: top;\n",
       "    }\n",
       "\n",
       "    .dataframe thead th {\n",
       "        text-align: right;\n",
       "    }\n",
       "</style>\n",
       "<table border=\"1\" class=\"dataframe\">\n",
       "  <thead>\n",
       "    <tr style=\"text-align: right;\">\n",
       "      <th></th>\n",
       "      <th>Monthly_Income</th>\n",
       "      <th>Loan_Amount_Applied</th>\n",
       "      <th>Loan_Tenure_Applied</th>\n",
       "      <th>Existing_EMI</th>\n",
       "      <th>Var5</th>\n",
       "      <th>Loan_Amount_Submitted</th>\n",
       "      <th>Loan_Tenure_Submitted</th>\n",
       "      <th>Interest_Rate</th>\n",
       "      <th>EMI_Loan_Submitted</th>\n",
       "      <th>age</th>\n",
       "      <th>...</th>\n",
       "      <th>Var1_HCXF</th>\n",
       "      <th>Var1_HCXG</th>\n",
       "      <th>Var1_HCYS</th>\n",
       "      <th>Var1_HVYS</th>\n",
       "      <th>Filled_Form_Y</th>\n",
       "      <th>Device_Type_Web-browser</th>\n",
       "      <th>Var2_C</th>\n",
       "      <th>Var2_E</th>\n",
       "      <th>Var2_F</th>\n",
       "      <th>Var2_G</th>\n",
       "    </tr>\n",
       "  </thead>\n",
       "  <tbody>\n",
       "    <tr>\n",
       "      <th>0</th>\n",
       "      <td>-0.322933</td>\n",
       "      <td>0.078559</td>\n",
       "      <td>1.339224</td>\n",
       "      <td>-0.441472</td>\n",
       "      <td>-1.027973</td>\n",
       "      <td>-0.858881</td>\n",
       "      <td>-1.264198</td>\n",
       "      <td>0.000000</td>\n",
       "      <td>-0.606027</td>\n",
       "      <td>0.841822</td>\n",
       "      <td>...</td>\n",
       "      <td>0.0</td>\n",
       "      <td>0.0</td>\n",
       "      <td>0.0</td>\n",
       "      <td>0.0</td>\n",
       "      <td>0.0</td>\n",
       "      <td>1.0</td>\n",
       "      <td>0.0</td>\n",
       "      <td>0.0</td>\n",
       "      <td>0.0</td>\n",
       "      <td>1.0</td>\n",
       "    </tr>\n",
       "    <tr>\n",
       "      <th>1</th>\n",
       "      <td>-0.083492</td>\n",
       "      <td>-0.135557</td>\n",
       "      <td>-0.138405</td>\n",
       "      <td>-0.441472</td>\n",
       "      <td>1.297352</td>\n",
       "      <td>-0.229825</td>\n",
       "      <td>-0.353720</td>\n",
       "      <td>-2.178647</td>\n",
       "      <td>0.379659</td>\n",
       "      <td>-0.135417</td>\n",
       "      <td>...</td>\n",
       "      <td>0.0</td>\n",
       "      <td>0.0</td>\n",
       "      <td>0.0</td>\n",
       "      <td>0.0</td>\n",
       "      <td>0.0</td>\n",
       "      <td>1.0</td>\n",
       "      <td>0.0</td>\n",
       "      <td>0.0</td>\n",
       "      <td>0.0</td>\n",
       "      <td>1.0</td>\n",
       "    </tr>\n",
       "    <tr>\n",
       "      <th>2</th>\n",
       "      <td>-0.283026</td>\n",
       "      <td>0.720908</td>\n",
       "      <td>0.846681</td>\n",
       "      <td>-0.441472</td>\n",
       "      <td>-1.027973</td>\n",
       "      <td>0.556494</td>\n",
       "      <td>0.556757</td>\n",
       "      <td>0.000000</td>\n",
       "      <td>-0.606027</td>\n",
       "      <td>0.423005</td>\n",
       "      <td>...</td>\n",
       "      <td>0.0</td>\n",
       "      <td>0.0</td>\n",
       "      <td>0.0</td>\n",
       "      <td>0.0</td>\n",
       "      <td>0.0</td>\n",
       "      <td>1.0</td>\n",
       "      <td>0.0</td>\n",
       "      <td>0.0</td>\n",
       "      <td>0.0</td>\n",
       "      <td>0.0</td>\n",
       "    </tr>\n",
       "    <tr>\n",
       "      <th>3</th>\n",
       "      <td>-0.083492</td>\n",
       "      <td>1.577374</td>\n",
       "      <td>1.339224</td>\n",
       "      <td>-0.441472</td>\n",
       "      <td>0.760739</td>\n",
       "      <td>2.034775</td>\n",
       "      <td>1.011996</td>\n",
       "      <td>0.000000</td>\n",
       "      <td>-0.606027</td>\n",
       "      <td>-0.414629</td>\n",
       "      <td>...</td>\n",
       "      <td>0.0</td>\n",
       "      <td>0.0</td>\n",
       "      <td>0.0</td>\n",
       "      <td>0.0</td>\n",
       "      <td>0.0</td>\n",
       "      <td>1.0</td>\n",
       "      <td>0.0</td>\n",
       "      <td>0.0</td>\n",
       "      <td>0.0</td>\n",
       "      <td>0.0</td>\n",
       "    </tr>\n",
       "    <tr>\n",
       "      <th>4</th>\n",
       "      <td>0.954084</td>\n",
       "      <td>0.506792</td>\n",
       "      <td>-0.138405</td>\n",
       "      <td>2.413060</td>\n",
       "      <td>2.012837</td>\n",
       "      <td>0.713758</td>\n",
       "      <td>-0.353720</td>\n",
       "      <td>0.000000</td>\n",
       "      <td>-0.606027</td>\n",
       "      <td>0.004188</td>\n",
       "      <td>...</td>\n",
       "      <td>0.0</td>\n",
       "      <td>0.0</td>\n",
       "      <td>0.0</td>\n",
       "      <td>0.0</td>\n",
       "      <td>0.0</td>\n",
       "      <td>1.0</td>\n",
       "      <td>0.0</td>\n",
       "      <td>0.0</td>\n",
       "      <td>0.0</td>\n",
       "      <td>0.0</td>\n",
       "    </tr>\n",
       "    <tr>\n",
       "      <th>...</th>\n",
       "      <td>...</td>\n",
       "      <td>...</td>\n",
       "      <td>...</td>\n",
       "      <td>...</td>\n",
       "      <td>...</td>\n",
       "      <td>...</td>\n",
       "      <td>...</td>\n",
       "      <td>...</td>\n",
       "      <td>...</td>\n",
       "      <td>...</td>\n",
       "      <td>...</td>\n",
       "      <td>...</td>\n",
       "      <td>...</td>\n",
       "      <td>...</td>\n",
       "      <td>...</td>\n",
       "      <td>...</td>\n",
       "      <td>...</td>\n",
       "      <td>...</td>\n",
       "      <td>...</td>\n",
       "      <td>...</td>\n",
       "      <td>...</td>\n",
       "    </tr>\n",
       "    <tr>\n",
       "      <th>995</th>\n",
       "      <td>-0.243119</td>\n",
       "      <td>0.078559</td>\n",
       "      <td>1.339224</td>\n",
       "      <td>-0.441472</td>\n",
       "      <td>1.118481</td>\n",
       "      <td>0.084702</td>\n",
       "      <td>1.011996</td>\n",
       "      <td>0.458026</td>\n",
       "      <td>0.528216</td>\n",
       "      <td>-0.414629</td>\n",
       "      <td>...</td>\n",
       "      <td>0.0</td>\n",
       "      <td>0.0</td>\n",
       "      <td>0.0</td>\n",
       "      <td>0.0</td>\n",
       "      <td>1.0</td>\n",
       "      <td>1.0</td>\n",
       "      <td>0.0</td>\n",
       "      <td>0.0</td>\n",
       "      <td>0.0</td>\n",
       "      <td>0.0</td>\n",
       "    </tr>\n",
       "    <tr>\n",
       "      <th>996</th>\n",
       "      <td>0.954084</td>\n",
       "      <td>0.506792</td>\n",
       "      <td>0.846681</td>\n",
       "      <td>1.442519</td>\n",
       "      <td>1.655095</td>\n",
       "      <td>0.713758</td>\n",
       "      <td>0.556757</td>\n",
       "      <td>0.000000</td>\n",
       "      <td>-0.606027</td>\n",
       "      <td>-0.554234</td>\n",
       "      <td>...</td>\n",
       "      <td>0.0</td>\n",
       "      <td>0.0</td>\n",
       "      <td>0.0</td>\n",
       "      <td>0.0</td>\n",
       "      <td>0.0</td>\n",
       "      <td>1.0</td>\n",
       "      <td>0.0</td>\n",
       "      <td>0.0</td>\n",
       "      <td>0.0</td>\n",
       "      <td>0.0</td>\n",
       "    </tr>\n",
       "    <tr>\n",
       "      <th>997</th>\n",
       "      <td>0.155948</td>\n",
       "      <td>1.577374</td>\n",
       "      <td>1.339224</td>\n",
       "      <td>0.962958</td>\n",
       "      <td>1.476224</td>\n",
       "      <td>1.814605</td>\n",
       "      <td>1.011996</td>\n",
       "      <td>0.916578</td>\n",
       "      <td>2.676211</td>\n",
       "      <td>0.841822</td>\n",
       "      <td>...</td>\n",
       "      <td>0.0</td>\n",
       "      <td>0.0</td>\n",
       "      <td>0.0</td>\n",
       "      <td>0.0</td>\n",
       "      <td>0.0</td>\n",
       "      <td>1.0</td>\n",
       "      <td>0.0</td>\n",
       "      <td>0.0</td>\n",
       "      <td>0.0</td>\n",
       "      <td>0.0</td>\n",
       "    </tr>\n",
       "    <tr>\n",
       "      <th>998</th>\n",
       "      <td>0.315575</td>\n",
       "      <td>-0.349673</td>\n",
       "      <td>1.339224</td>\n",
       "      <td>3.269419</td>\n",
       "      <td>-1.027973</td>\n",
       "      <td>-0.858881</td>\n",
       "      <td>-1.264198</td>\n",
       "      <td>0.000000</td>\n",
       "      <td>-0.606027</td>\n",
       "      <td>0.004188</td>\n",
       "      <td>...</td>\n",
       "      <td>0.0</td>\n",
       "      <td>0.0</td>\n",
       "      <td>0.0</td>\n",
       "      <td>0.0</td>\n",
       "      <td>0.0</td>\n",
       "      <td>1.0</td>\n",
       "      <td>0.0</td>\n",
       "      <td>0.0</td>\n",
       "      <td>0.0</td>\n",
       "      <td>0.0</td>\n",
       "    </tr>\n",
       "    <tr>\n",
       "      <th>999</th>\n",
       "      <td>-0.402746</td>\n",
       "      <td>-0.135557</td>\n",
       "      <td>0.846681</td>\n",
       "      <td>-0.435991</td>\n",
       "      <td>-1.027973</td>\n",
       "      <td>-0.858881</td>\n",
       "      <td>-1.264198</td>\n",
       "      <td>0.000000</td>\n",
       "      <td>-0.606027</td>\n",
       "      <td>-0.135417</td>\n",
       "      <td>...</td>\n",
       "      <td>0.0</td>\n",
       "      <td>0.0</td>\n",
       "      <td>0.0</td>\n",
       "      <td>0.0</td>\n",
       "      <td>0.0</td>\n",
       "      <td>1.0</td>\n",
       "      <td>0.0</td>\n",
       "      <td>0.0</td>\n",
       "      <td>0.0</td>\n",
       "      <td>0.0</td>\n",
       "    </tr>\n",
       "  </tbody>\n",
       "</table>\n",
       "<p>1000 rows × 36 columns</p>\n",
       "</div>"
      ],
      "text/plain": [
       "     Monthly_Income  Loan_Amount_Applied  Loan_Tenure_Applied  Existing_EMI  \\\n",
       "0         -0.322933             0.078559             1.339224     -0.441472   \n",
       "1         -0.083492            -0.135557            -0.138405     -0.441472   \n",
       "2         -0.283026             0.720908             0.846681     -0.441472   \n",
       "3         -0.083492             1.577374             1.339224     -0.441472   \n",
       "4          0.954084             0.506792            -0.138405      2.413060   \n",
       "..              ...                  ...                  ...           ...   \n",
       "995       -0.243119             0.078559             1.339224     -0.441472   \n",
       "996        0.954084             0.506792             0.846681      1.442519   \n",
       "997        0.155948             1.577374             1.339224      0.962958   \n",
       "998        0.315575            -0.349673             1.339224      3.269419   \n",
       "999       -0.402746            -0.135557             0.846681     -0.435991   \n",
       "\n",
       "         Var5  Loan_Amount_Submitted  Loan_Tenure_Submitted  Interest_Rate  \\\n",
       "0   -1.027973              -0.858881              -1.264198       0.000000   \n",
       "1    1.297352              -0.229825              -0.353720      -2.178647   \n",
       "2   -1.027973               0.556494               0.556757       0.000000   \n",
       "3    0.760739               2.034775               1.011996       0.000000   \n",
       "4    2.012837               0.713758              -0.353720       0.000000   \n",
       "..        ...                    ...                    ...            ...   \n",
       "995  1.118481               0.084702               1.011996       0.458026   \n",
       "996  1.655095               0.713758               0.556757       0.000000   \n",
       "997  1.476224               1.814605               1.011996       0.916578   \n",
       "998 -1.027973              -0.858881              -1.264198       0.000000   \n",
       "999 -1.027973              -0.858881              -1.264198       0.000000   \n",
       "\n",
       "     EMI_Loan_Submitted       age  ...  Var1_HCXF  Var1_HCXG  Var1_HCYS  \\\n",
       "0             -0.606027  0.841822  ...        0.0        0.0        0.0   \n",
       "1              0.379659 -0.135417  ...        0.0        0.0        0.0   \n",
       "2             -0.606027  0.423005  ...        0.0        0.0        0.0   \n",
       "3             -0.606027 -0.414629  ...        0.0        0.0        0.0   \n",
       "4             -0.606027  0.004188  ...        0.0        0.0        0.0   \n",
       "..                  ...       ...  ...        ...        ...        ...   \n",
       "995            0.528216 -0.414629  ...        0.0        0.0        0.0   \n",
       "996           -0.606027 -0.554234  ...        0.0        0.0        0.0   \n",
       "997            2.676211  0.841822  ...        0.0        0.0        0.0   \n",
       "998           -0.606027  0.004188  ...        0.0        0.0        0.0   \n",
       "999           -0.606027 -0.135417  ...        0.0        0.0        0.0   \n",
       "\n",
       "     Var1_HVYS  Filled_Form_Y  Device_Type_Web-browser  Var2_C  Var2_E  \\\n",
       "0          0.0            0.0                      1.0     0.0     0.0   \n",
       "1          0.0            0.0                      1.0     0.0     0.0   \n",
       "2          0.0            0.0                      1.0     0.0     0.0   \n",
       "3          0.0            0.0                      1.0     0.0     0.0   \n",
       "4          0.0            0.0                      1.0     0.0     0.0   \n",
       "..         ...            ...                      ...     ...     ...   \n",
       "995        0.0            1.0                      1.0     0.0     0.0   \n",
       "996        0.0            0.0                      1.0     0.0     0.0   \n",
       "997        0.0            0.0                      1.0     0.0     0.0   \n",
       "998        0.0            0.0                      1.0     0.0     0.0   \n",
       "999        0.0            0.0                      1.0     0.0     0.0   \n",
       "\n",
       "     Var2_F  Var2_G  \n",
       "0       0.0     1.0  \n",
       "1       0.0     1.0  \n",
       "2       0.0     0.0  \n",
       "3       0.0     0.0  \n",
       "4       0.0     0.0  \n",
       "..      ...     ...  \n",
       "995     0.0     0.0  \n",
       "996     0.0     0.0  \n",
       "997     0.0     0.0  \n",
       "998     0.0     0.0  \n",
       "999     0.0     0.0  \n",
       "\n",
       "[1000 rows x 36 columns]"
      ]
     },
     "execution_count": 31,
     "metadata": {},
     "output_type": "execute_result"
    }
   ],
   "source": [
    "X"
   ]
  },
  {
   "cell_type": "code",
   "execution_count": 32,
   "metadata": {},
   "outputs": [
    {
     "data": {
      "text/plain": [
       "[array(['Var4'], dtype=object)]"
      ]
     },
     "execution_count": 32,
     "metadata": {},
     "output_type": "execute_result"
    }
   ],
   "source": [
    "pipe_vif.named_steps.vif.correlated_data"
   ]
  },
  {
   "cell_type": "code",
   "execution_count": 33,
   "metadata": {
    "id": "fqo83mUrHZ3O"
   },
   "outputs": [],
   "source": [
    "\n",
    "X_train, X_test, y_train, y_test = train_test_split(X, y, test_size=0.2,\n",
    "                                                    stratify=y, random_state=42) "
   ]
  },
  {
   "cell_type": "code",
   "execution_count": 34,
   "metadata": {},
   "outputs": [
    {
     "data": {
      "text/plain": [
       "0    791\n",
       "1      9\n",
       "Name: Disbursed, dtype: int64"
      ]
     },
     "execution_count": 34,
     "metadata": {},
     "output_type": "execute_result"
    }
   ],
   "source": [
    "y_train.value_counts()"
   ]
  },
  {
   "cell_type": "code",
   "execution_count": 35,
   "metadata": {
    "colab": {
     "base_uri": "https://localhost:8080/"
    },
    "id": "uVEZtcPou-Cs",
    "outputId": "ac0cfbbe-9138-4476-e838-2b4d3f637cb8"
   },
   "outputs": [
    {
     "data": {
      "text/plain": [
       "87.88888888888889"
      ]
     },
     "execution_count": 35,
     "metadata": {},
     "output_type": "execute_result"
    }
   ],
   "source": [
    "y_train.value_counts()[0] / y_train.value_counts()[1]"
   ]
  },
  {
   "cell_type": "code",
   "execution_count": 36,
   "metadata": {
    "colab": {
     "base_uri": "https://localhost:8080/"
    },
    "id": "9pPFCAikvJtl",
    "outputId": "e9d3625f-1b01-461a-f441-6e9fd3c7ba8e"
   },
   "outputs": [
    {
     "data": {
      "text/plain": [
       "99.0"
      ]
     },
     "execution_count": 36,
     "metadata": {},
     "output_type": "execute_result"
    }
   ],
   "source": [
    "y_test.value_counts()[0] / y_test.value_counts()[1]"
   ]
  },
  {
   "cell_type": "markdown",
   "metadata": {},
   "source": [
    "## Model"
   ]
  },
  {
   "cell_type": "code",
   "execution_count": 37,
   "metadata": {
    "id": "1eSLW9tOax_K"
   },
   "outputs": [],
   "source": [
    "pipe_model = Pipeline(steps = [('model', None)])"
   ]
  },
  {
   "cell_type": "code",
   "execution_count": 38,
   "metadata": {
    "id": "FjERieb174Y7"
   },
   "outputs": [
    {
     "name": "stderr",
     "output_type": "stream",
     "text": [
      "D:\\anaconda\\envs\\myenv\\lib\\site-packages\\sklearn\\model_selection\\_validation.py:378: FitFailedWarning: \n",
      "15 fits failed out of a total of 50.\n",
      "The score on these train-test partitions for these parameters will be set to nan.\n",
      "If these failures are not expected, you can try to debug them by setting error_score='raise'.\n",
      "\n",
      "Below are more details about the failures:\n",
      "--------------------------------------------------------------------------------\n",
      "15 fits failed with the following error:\n",
      "Traceback (most recent call last):\n",
      "  File \"D:\\anaconda\\envs\\myenv\\lib\\site-packages\\sklearn\\model_selection\\_validation.py\", line 686, in _fit_and_score\n",
      "    estimator.fit(X_train, y_train, **fit_params)\n",
      "  File \"D:\\anaconda\\envs\\myenv\\lib\\site-packages\\sklearn\\pipeline.py\", line 382, in fit\n",
      "    self._final_estimator.fit(Xt, y, **fit_params_last_step)\n",
      "  File \"D:\\anaconda\\envs\\myenv\\lib\\site-packages\\sklearn\\linear_model\\_stochastic_gradient.py\", line 890, in fit\n",
      "    return self._fit(\n",
      "  File \"D:\\anaconda\\envs\\myenv\\lib\\site-packages\\sklearn\\linear_model\\_stochastic_gradient.py\", line 658, in _fit\n",
      "    self._validate_params()\n",
      "  File \"D:\\anaconda\\envs\\myenv\\lib\\site-packages\\sklearn\\linear_model\\_stochastic_gradient.py\", line 148, in _validate_params\n",
      "    raise ValueError(\"eta0 must be > 0\")\n",
      "ValueError: eta0 must be > 0\n",
      "\n",
      "  warnings.warn(some_fits_failed_message, FitFailedWarning)\n",
      "D:\\anaconda\\envs\\myenv\\lib\\site-packages\\sklearn\\model_selection\\_search.py:953: UserWarning: One or more of the test scores are non-finite: [0.8381225  0.5        0.76377286 0.83217671 0.53881215 0.5\n",
      "        nan        nan        nan 0.85690168]\n",
      "  warnings.warn(\n"
     ]
    },
    {
     "data": {
      "text/html": [
       "<style>#sk-container-id-1 {color: black;background-color: white;}#sk-container-id-1 pre{padding: 0;}#sk-container-id-1 div.sk-toggleable {background-color: white;}#sk-container-id-1 label.sk-toggleable__label {cursor: pointer;display: block;width: 100%;margin-bottom: 0;padding: 0.3em;box-sizing: border-box;text-align: center;}#sk-container-id-1 label.sk-toggleable__label-arrow:before {content: \"▸\";float: left;margin-right: 0.25em;color: #696969;}#sk-container-id-1 label.sk-toggleable__label-arrow:hover:before {color: black;}#sk-container-id-1 div.sk-estimator:hover label.sk-toggleable__label-arrow:before {color: black;}#sk-container-id-1 div.sk-toggleable__content {max-height: 0;max-width: 0;overflow: hidden;text-align: left;background-color: #f0f8ff;}#sk-container-id-1 div.sk-toggleable__content pre {margin: 0.2em;color: black;border-radius: 0.25em;background-color: #f0f8ff;}#sk-container-id-1 input.sk-toggleable__control:checked~div.sk-toggleable__content {max-height: 200px;max-width: 100%;overflow: auto;}#sk-container-id-1 input.sk-toggleable__control:checked~label.sk-toggleable__label-arrow:before {content: \"▾\";}#sk-container-id-1 div.sk-estimator input.sk-toggleable__control:checked~label.sk-toggleable__label {background-color: #d4ebff;}#sk-container-id-1 div.sk-label input.sk-toggleable__control:checked~label.sk-toggleable__label {background-color: #d4ebff;}#sk-container-id-1 input.sk-hidden--visually {border: 0;clip: rect(1px 1px 1px 1px);clip: rect(1px, 1px, 1px, 1px);height: 1px;margin: -1px;overflow: hidden;padding: 0;position: absolute;width: 1px;}#sk-container-id-1 div.sk-estimator {font-family: monospace;background-color: #f0f8ff;border: 1px dotted black;border-radius: 0.25em;box-sizing: border-box;margin-bottom: 0.5em;}#sk-container-id-1 div.sk-estimator:hover {background-color: #d4ebff;}#sk-container-id-1 div.sk-parallel-item::after {content: \"\";width: 100%;border-bottom: 1px solid gray;flex-grow: 1;}#sk-container-id-1 div.sk-label:hover label.sk-toggleable__label {background-color: #d4ebff;}#sk-container-id-1 div.sk-serial::before {content: \"\";position: absolute;border-left: 1px solid gray;box-sizing: border-box;top: 0;bottom: 0;left: 50%;z-index: 0;}#sk-container-id-1 div.sk-serial {display: flex;flex-direction: column;align-items: center;background-color: white;padding-right: 0.2em;padding-left: 0.2em;position: relative;}#sk-container-id-1 div.sk-item {position: relative;z-index: 1;}#sk-container-id-1 div.sk-parallel {display: flex;align-items: stretch;justify-content: center;background-color: white;position: relative;}#sk-container-id-1 div.sk-item::before, #sk-container-id-1 div.sk-parallel-item::before {content: \"\";position: absolute;border-left: 1px solid gray;box-sizing: border-box;top: 0;bottom: 0;left: 50%;z-index: -1;}#sk-container-id-1 div.sk-parallel-item {display: flex;flex-direction: column;z-index: 1;position: relative;background-color: white;}#sk-container-id-1 div.sk-parallel-item:first-child::after {align-self: flex-end;width: 50%;}#sk-container-id-1 div.sk-parallel-item:last-child::after {align-self: flex-start;width: 50%;}#sk-container-id-1 div.sk-parallel-item:only-child::after {width: 0;}#sk-container-id-1 div.sk-dashed-wrapped {border: 1px dashed gray;margin: 0 0.4em 0.5em 0.4em;box-sizing: border-box;padding-bottom: 0.4em;background-color: white;}#sk-container-id-1 div.sk-label label {font-family: monospace;font-weight: bold;display: inline-block;line-height: 1.2em;}#sk-container-id-1 div.sk-label-container {text-align: center;}#sk-container-id-1 div.sk-container {/* jupyter's `normalize.less` sets `[hidden] { display: none; }` but bootstrap.min.css set `[hidden] { display: none !important; }` so we also need the `!important` here to be able to override the default hidden behavior on the sphinx rendered scikit-learn.org. See: https://github.com/scikit-learn/scikit-learn/issues/21755 */display: inline-block !important;position: relative;}#sk-container-id-1 div.sk-text-repr-fallback {display: none;}</style><div id=\"sk-container-id-1\" class=\"sk-top-container\"><div class=\"sk-text-repr-fallback\"><pre>RandomizedSearchCV(estimator=Pipeline(steps=[(&#x27;model&#x27;, None)]),\n",
       "                   param_distributions=[{&#x27;model&#x27;: [RandomForestClassifier(ccp_alpha=0.001,\n",
       "                                                                          class_weight={0: 0.01,\n",
       "                                                                                        1: 1},\n",
       "                                                                          max_depth=6,\n",
       "                                                                          min_samples_leaf=4,\n",
       "                                                                          min_samples_split=6,\n",
       "                                                                          n_estimators=260)],\n",
       "                                         &#x27;model__ccp_alpha&#x27;: [0, 0.001, 0.01,\n",
       "                                                              0.1, 5, 10, 50,\n",
       "                                                              100, 500, 1000,\n",
       "                                                              5000],\n",
       "                                         &#x27;model__class_weight&#x27;: [{0: 0.001,\n",
       "                                                                  1: 1},\n",
       "                                                                 {0: 0.01,\n",
       "                                                                  1: 1},\n",
       "                                                                 {0: 0.1, 1...\n",
       "       0.23, 0.24, 0.25, 0.26, 0.27, 0.28, 0.29]),\n",
       "                                         &#x27;model__max_depth&#x27;: array([2, 3, 4, 5, 6, 7, 8]),\n",
       "                                         &#x27;model__n_estimators&#x27;: &lt;scipy.stats._distn_infrastructure.rv_frozen object at 0x0000011EC2CEF670&gt;,\n",
       "                                         &#x27;model__scale_pos_weight&#x27;: array([50, 51, 52, 53, 54, 55, 56, 57, 58, 59, 60, 61, 62, 63, 64, 65, 66,\n",
       "       67, 68, 69, 70, 71, 72, 73, 74, 75, 76, 77, 78, 79, 80, 81, 82, 83,\n",
       "       84, 85, 86, 87, 88, 89, 90, 91, 92, 93, 94, 95, 96, 97, 98, 99])}],\n",
       "                   scoring=&#x27;roc_auc&#x27;)</pre><b>In a Jupyter environment, please rerun this cell to show the HTML representation or trust the notebook. <br />On GitHub, the HTML representation is unable to render, please try loading this page with nbviewer.org.</b></div><div class=\"sk-container\" hidden><div class=\"sk-item sk-dashed-wrapped\"><div class=\"sk-label-container\"><div class=\"sk-label sk-toggleable\"><input class=\"sk-toggleable__control sk-hidden--visually\" id=\"sk-estimator-id-1\" type=\"checkbox\" ><label for=\"sk-estimator-id-1\" class=\"sk-toggleable__label sk-toggleable__label-arrow\">RandomizedSearchCV</label><div class=\"sk-toggleable__content\"><pre>RandomizedSearchCV(estimator=Pipeline(steps=[(&#x27;model&#x27;, None)]),\n",
       "                   param_distributions=[{&#x27;model&#x27;: [RandomForestClassifier(ccp_alpha=0.001,\n",
       "                                                                          class_weight={0: 0.01,\n",
       "                                                                                        1: 1},\n",
       "                                                                          max_depth=6,\n",
       "                                                                          min_samples_leaf=4,\n",
       "                                                                          min_samples_split=6,\n",
       "                                                                          n_estimators=260)],\n",
       "                                         &#x27;model__ccp_alpha&#x27;: [0, 0.001, 0.01,\n",
       "                                                              0.1, 5, 10, 50,\n",
       "                                                              100, 500, 1000,\n",
       "                                                              5000],\n",
       "                                         &#x27;model__class_weight&#x27;: [{0: 0.001,\n",
       "                                                                  1: 1},\n",
       "                                                                 {0: 0.01,\n",
       "                                                                  1: 1},\n",
       "                                                                 {0: 0.1, 1...\n",
       "       0.23, 0.24, 0.25, 0.26, 0.27, 0.28, 0.29]),\n",
       "                                         &#x27;model__max_depth&#x27;: array([2, 3, 4, 5, 6, 7, 8]),\n",
       "                                         &#x27;model__n_estimators&#x27;: &lt;scipy.stats._distn_infrastructure.rv_frozen object at 0x0000011EC2CEF670&gt;,\n",
       "                                         &#x27;model__scale_pos_weight&#x27;: array([50, 51, 52, 53, 54, 55, 56, 57, 58, 59, 60, 61, 62, 63, 64, 65, 66,\n",
       "       67, 68, 69, 70, 71, 72, 73, 74, 75, 76, 77, 78, 79, 80, 81, 82, 83,\n",
       "       84, 85, 86, 87, 88, 89, 90, 91, 92, 93, 94, 95, 96, 97, 98, 99])}],\n",
       "                   scoring=&#x27;roc_auc&#x27;)</pre></div></div></div><div class=\"sk-parallel\"><div class=\"sk-parallel-item\"><div class=\"sk-item\"><div class=\"sk-label-container\"><div class=\"sk-label sk-toggleable\"><input class=\"sk-toggleable__control sk-hidden--visually\" id=\"sk-estimator-id-2\" type=\"checkbox\" ><label for=\"sk-estimator-id-2\" class=\"sk-toggleable__label sk-toggleable__label-arrow\">estimator: Pipeline</label><div class=\"sk-toggleable__content\"><pre>Pipeline(steps=[(&#x27;model&#x27;, None)])</pre></div></div></div><div class=\"sk-serial\"><div class=\"sk-item\"><div class=\"sk-serial\"><div class=\"sk-item\"><div class=\"sk-estimator sk-toggleable\"><input class=\"sk-toggleable__control sk-hidden--visually\" id=\"sk-estimator-id-3\" type=\"checkbox\" ><label for=\"sk-estimator-id-3\" class=\"sk-toggleable__label sk-toggleable__label-arrow\">None</label><div class=\"sk-toggleable__content\"><pre>None</pre></div></div></div></div></div></div></div></div></div></div></div></div>"
      ],
      "text/plain": [
       "RandomizedSearchCV(estimator=Pipeline(steps=[('model', None)]),\n",
       "                   param_distributions=[{'model': [RandomForestClassifier(ccp_alpha=0.001,\n",
       "                                                                          class_weight={0: 0.01,\n",
       "                                                                                        1: 1},\n",
       "                                                                          max_depth=6,\n",
       "                                                                          min_samples_leaf=4,\n",
       "                                                                          min_samples_split=6,\n",
       "                                                                          n_estimators=260)],\n",
       "                                         'model__ccp_alpha': [0, 0.001, 0.01,\n",
       "                                                              0.1, 5, 10, 50,\n",
       "                                                              100, 500, 1000,\n",
       "                                                              5000],\n",
       "                                         'model__class_weight': [{0: 0.001,\n",
       "                                                                  1: 1},\n",
       "                                                                 {0: 0.01,\n",
       "                                                                  1: 1},\n",
       "                                                                 {0: 0.1, 1...\n",
       "       0.23, 0.24, 0.25, 0.26, 0.27, 0.28, 0.29]),\n",
       "                                         'model__max_depth': array([2, 3, 4, 5, 6, 7, 8]),\n",
       "                                         'model__n_estimators': <scipy.stats._distn_infrastructure.rv_frozen object at 0x0000011EC2CEF670>,\n",
       "                                         'model__scale_pos_weight': array([50, 51, 52, 53, 54, 55, 56, 57, 58, 59, 60, 61, 62, 63, 64, 65, 66,\n",
       "       67, 68, 69, 70, 71, 72, 73, 74, 75, 76, 77, 78, 79, 80, 81, 82, 83,\n",
       "       84, 85, 86, 87, 88, 89, 90, 91, 92, 93, 94, 95, 96, 97, 98, 99])}],\n",
       "                   scoring='roc_auc')"
      ]
     },
     "execution_count": 38,
     "metadata": {},
     "output_type": "execute_result"
    }
   ],
   "source": [
    "param_grid = [\n",
    "    \n",
    "    {\n",
    "        'model__class_weight' : [{0 : 0.001, 1 : 1}, {0 : 0.01, 1 : 1},\n",
    "                                 {0 : 0.1, 1 : 1}, 'balanced'],\n",
    "        'model__n_estimators' : sp_randint(200, 500),\n",
    "        'model__max_depth' : np.arange(1, 11, 1),\n",
    "        'model__min_samples_split' : np.arange(2, 10, 1),\n",
    "        'model__min_samples_leaf' : sp_randint(1, 12),\n",
    "        'model__ccp_alpha' : [0, 0.001, 0.01, 0.1, 5, 10, 50, 100, 500, 1000, 5000],\n",
    "        'model': [RandomForestClassifier()]\n",
    "    },\n",
    "    {\n",
    "        'model__class_weight' : [{0 : 0.001, 1 : 1}, {0 : 0.01, 1 : 1},\n",
    "                                 {0 : 0.1, 1 : 1}, 'balanced'],\n",
    "        'model__loss' : ['hinge', 'modified_huber', 'perceptron'] ,\n",
    "        'model__learning_rate' : ['constant', 'optimal', 'invscaling' ,'adaptive'],\n",
    "        'model': [SGDClassifier(max_iter=10000, tol=1e-3)]\n",
    "    },\n",
    "    {\n",
    "        'model__scale_pos_weight' : np.arange(50, 100, 1),\n",
    "        'model__n_estimators' : sp_randint(10, 100),\n",
    "        'model__max_depth': np.arange(2, 9),\n",
    "        'model__learning_rate': np.arange(0.01, 0.3, 0.01),\n",
    "        'model__colsample_bytree': np.arange(0.1, 1, 0.1),\n",
    "        'model__gamma': np.arange(0, 20, 2),\n",
    "        'model': [XGBClassifier()]\n",
    "    }\n",
    "]\n",
    "\n",
    "grid = RandomizedSearchCV(pipe_model, param_grid, n_iter=10, scoring='roc_auc')\n",
    "grid.fit(X_train, y_train)"
   ]
  },
  {
   "cell_type": "code",
   "execution_count": 39,
   "metadata": {
    "id": "pZGUPeg-CY8N"
   },
   "outputs": [
    {
     "data": {
      "text/plain": [
       "dict_keys(['objective', 'use_label_encoder', 'base_score', 'booster', 'callbacks', 'colsample_bylevel', 'colsample_bynode', 'colsample_bytree', 'early_stopping_rounds', 'enable_categorical', 'eval_metric', 'gamma', 'gpu_id', 'grow_policy', 'importance_type', 'interaction_constraints', 'learning_rate', 'max_bin', 'max_cat_to_onehot', 'max_delta_step', 'max_depth', 'max_leaves', 'min_child_weight', 'missing', 'monotone_constraints', 'n_estimators', 'n_jobs', 'num_parallel_tree', 'predictor', 'random_state', 'reg_alpha', 'reg_lambda', 'sampling_method', 'scale_pos_weight', 'subsample', 'tree_method', 'validate_parameters', 'verbosity'])"
      ]
     },
     "execution_count": 39,
     "metadata": {},
     "output_type": "execute_result"
    }
   ],
   "source": [
    "XGBClassifier().get_params().keys()"
   ]
  },
  {
   "cell_type": "code",
   "execution_count": 40,
   "metadata": {
    "id": "ONOGbhRoF3nv"
   },
   "outputs": [
    {
     "data": {
      "text/html": [
       "<div>\n",
       "<style scoped>\n",
       "    .dataframe tbody tr th:only-of-type {\n",
       "        vertical-align: middle;\n",
       "    }\n",
       "\n",
       "    .dataframe tbody tr th {\n",
       "        vertical-align: top;\n",
       "    }\n",
       "\n",
       "    .dataframe thead th {\n",
       "        text-align: right;\n",
       "    }\n",
       "</style>\n",
       "<table border=\"1\" class=\"dataframe\">\n",
       "  <thead>\n",
       "    <tr style=\"text-align: right;\">\n",
       "      <th></th>\n",
       "      <th>mean_fit_time</th>\n",
       "      <th>std_fit_time</th>\n",
       "      <th>mean_score_time</th>\n",
       "      <th>std_score_time</th>\n",
       "      <th>param_model</th>\n",
       "      <th>param_model__colsample_bytree</th>\n",
       "      <th>param_model__gamma</th>\n",
       "      <th>param_model__learning_rate</th>\n",
       "      <th>param_model__max_depth</th>\n",
       "      <th>param_model__n_estimators</th>\n",
       "      <th>...</th>\n",
       "      <th>param_model__loss</th>\n",
       "      <th>params</th>\n",
       "      <th>split0_test_score</th>\n",
       "      <th>split1_test_score</th>\n",
       "      <th>split2_test_score</th>\n",
       "      <th>split3_test_score</th>\n",
       "      <th>split4_test_score</th>\n",
       "      <th>mean_test_score</th>\n",
       "      <th>std_test_score</th>\n",
       "      <th>rank_test_score</th>\n",
       "    </tr>\n",
       "  </thead>\n",
       "  <tbody>\n",
       "    <tr>\n",
       "      <th>0</th>\n",
       "      <td>0.332030</td>\n",
       "      <td>0.033673</td>\n",
       "      <td>0.034904</td>\n",
       "      <td>1.649779e-02</td>\n",
       "      <td>RandomForestClassifier(ccp_alpha=0.001, class_...</td>\n",
       "      <td>NaN</td>\n",
       "      <td>NaN</td>\n",
       "      <td>NaN</td>\n",
       "      <td>6</td>\n",
       "      <td>260</td>\n",
       "      <td>...</td>\n",
       "      <td>NaN</td>\n",
       "      <td>{'model': RandomForestClassifier(ccp_alpha=0.0...</td>\n",
       "      <td>0.981132</td>\n",
       "      <td>0.876858</td>\n",
       "      <td>0.949367</td>\n",
       "      <td>0.867089</td>\n",
       "      <td>0.610063</td>\n",
       "      <td>0.856902</td>\n",
       "      <td>0.130702</td>\n",
       "      <td>1</td>\n",
       "    </tr>\n",
       "    <tr>\n",
       "      <th>1</th>\n",
       "      <td>0.037103</td>\n",
       "      <td>0.005110</td>\n",
       "      <td>0.003192</td>\n",
       "      <td>3.987313e-04</td>\n",
       "      <td>XGBClassifier(base_score=None, booster=None, c...</td>\n",
       "      <td>0.6</td>\n",
       "      <td>12</td>\n",
       "      <td>0.27</td>\n",
       "      <td>8</td>\n",
       "      <td>65</td>\n",
       "      <td>...</td>\n",
       "      <td>NaN</td>\n",
       "      <td>{'model': XGBClassifier(base_score=None, boost...</td>\n",
       "      <td>0.893082</td>\n",
       "      <td>0.783439</td>\n",
       "      <td>0.895570</td>\n",
       "      <td>0.844937</td>\n",
       "      <td>0.773585</td>\n",
       "      <td>0.838122</td>\n",
       "      <td>0.052005</td>\n",
       "      <td>2</td>\n",
       "    </tr>\n",
       "    <tr>\n",
       "      <th>2</th>\n",
       "      <td>0.029121</td>\n",
       "      <td>0.000399</td>\n",
       "      <td>0.003990</td>\n",
       "      <td>3.814697e-07</td>\n",
       "      <td>XGBClassifier(base_score=None, booster=None, c...</td>\n",
       "      <td>0.2</td>\n",
       "      <td>4</td>\n",
       "      <td>0.06</td>\n",
       "      <td>3</td>\n",
       "      <td>69</td>\n",
       "      <td>...</td>\n",
       "      <td>NaN</td>\n",
       "      <td>{'model': XGBClassifier(base_score=None, boost...</td>\n",
       "      <td>0.968553</td>\n",
       "      <td>0.774947</td>\n",
       "      <td>0.949367</td>\n",
       "      <td>0.914557</td>\n",
       "      <td>0.553459</td>\n",
       "      <td>0.832177</td>\n",
       "      <td>0.154969</td>\n",
       "      <td>3</td>\n",
       "    </tr>\n",
       "    <tr>\n",
       "      <th>3</th>\n",
       "      <td>0.014361</td>\n",
       "      <td>0.023241</td>\n",
       "      <td>0.001995</td>\n",
       "      <td>1.907349e-07</td>\n",
       "      <td>SGDClassifier(max_iter=10000)</td>\n",
       "      <td>NaN</td>\n",
       "      <td>NaN</td>\n",
       "      <td>optimal</td>\n",
       "      <td>NaN</td>\n",
       "      <td>NaN</td>\n",
       "      <td>...</td>\n",
       "      <td>hinge</td>\n",
       "      <td>{'model': SGDClassifier(max_iter=10000), 'mode...</td>\n",
       "      <td>0.792453</td>\n",
       "      <td>0.588110</td>\n",
       "      <td>0.977848</td>\n",
       "      <td>0.712025</td>\n",
       "      <td>0.748428</td>\n",
       "      <td>0.763773</td>\n",
       "      <td>0.126824</td>\n",
       "      <td>4</td>\n",
       "    </tr>\n",
       "    <tr>\n",
       "      <th>4</th>\n",
       "      <td>0.003191</td>\n",
       "      <td>0.000399</td>\n",
       "      <td>0.002194</td>\n",
       "      <td>3.990890e-04</td>\n",
       "      <td>SGDClassifier(max_iter=10000)</td>\n",
       "      <td>NaN</td>\n",
       "      <td>NaN</td>\n",
       "      <td>optimal</td>\n",
       "      <td>NaN</td>\n",
       "      <td>NaN</td>\n",
       "      <td>...</td>\n",
       "      <td>hinge</td>\n",
       "      <td>{'model': SGDClassifier(max_iter=10000), 'mode...</td>\n",
       "      <td>0.874214</td>\n",
       "      <td>0.513800</td>\n",
       "      <td>0.911392</td>\n",
       "      <td>0.250000</td>\n",
       "      <td>0.144654</td>\n",
       "      <td>0.538812</td>\n",
       "      <td>0.313276</td>\n",
       "      <td>5</td>\n",
       "    </tr>\n",
       "    <tr>\n",
       "      <th>5</th>\n",
       "      <td>0.280813</td>\n",
       "      <td>0.003514</td>\n",
       "      <td>0.025334</td>\n",
       "      <td>2.324826e-03</td>\n",
       "      <td>RandomForestClassifier(ccp_alpha=0.001, class_...</td>\n",
       "      <td>NaN</td>\n",
       "      <td>NaN</td>\n",
       "      <td>NaN</td>\n",
       "      <td>1</td>\n",
       "      <td>247</td>\n",
       "      <td>...</td>\n",
       "      <td>NaN</td>\n",
       "      <td>{'model': RandomForestClassifier(ccp_alpha=0.0...</td>\n",
       "      <td>0.500000</td>\n",
       "      <td>0.500000</td>\n",
       "      <td>0.500000</td>\n",
       "      <td>0.500000</td>\n",
       "      <td>0.500000</td>\n",
       "      <td>0.500000</td>\n",
       "      <td>0.000000</td>\n",
       "      <td>6</td>\n",
       "    </tr>\n",
       "    <tr>\n",
       "      <th>6</th>\n",
       "      <td>0.458634</td>\n",
       "      <td>0.073475</td>\n",
       "      <td>0.037500</td>\n",
       "      <td>5.069993e-03</td>\n",
       "      <td>RandomForestClassifier(ccp_alpha=0.001, class_...</td>\n",
       "      <td>NaN</td>\n",
       "      <td>NaN</td>\n",
       "      <td>NaN</td>\n",
       "      <td>5</td>\n",
       "      <td>332</td>\n",
       "      <td>...</td>\n",
       "      <td>NaN</td>\n",
       "      <td>{'model': RandomForestClassifier(ccp_alpha=0.0...</td>\n",
       "      <td>0.500000</td>\n",
       "      <td>0.500000</td>\n",
       "      <td>0.500000</td>\n",
       "      <td>0.500000</td>\n",
       "      <td>0.500000</td>\n",
       "      <td>0.500000</td>\n",
       "      <td>0.000000</td>\n",
       "      <td>6</td>\n",
       "    </tr>\n",
       "    <tr>\n",
       "      <th>7</th>\n",
       "      <td>0.001396</td>\n",
       "      <td>0.001354</td>\n",
       "      <td>0.000000</td>\n",
       "      <td>0.000000e+00</td>\n",
       "      <td>SGDClassifier(max_iter=10000)</td>\n",
       "      <td>NaN</td>\n",
       "      <td>NaN</td>\n",
       "      <td>invscaling</td>\n",
       "      <td>NaN</td>\n",
       "      <td>NaN</td>\n",
       "      <td>...</td>\n",
       "      <td>modified_huber</td>\n",
       "      <td>{'model': SGDClassifier(max_iter=10000), 'mode...</td>\n",
       "      <td>NaN</td>\n",
       "      <td>NaN</td>\n",
       "      <td>NaN</td>\n",
       "      <td>NaN</td>\n",
       "      <td>NaN</td>\n",
       "      <td>NaN</td>\n",
       "      <td>NaN</td>\n",
       "      <td>8</td>\n",
       "    </tr>\n",
       "    <tr>\n",
       "      <th>8</th>\n",
       "      <td>0.000798</td>\n",
       "      <td>0.000399</td>\n",
       "      <td>0.000000</td>\n",
       "      <td>0.000000e+00</td>\n",
       "      <td>SGDClassifier(max_iter=10000)</td>\n",
       "      <td>NaN</td>\n",
       "      <td>NaN</td>\n",
       "      <td>constant</td>\n",
       "      <td>NaN</td>\n",
       "      <td>NaN</td>\n",
       "      <td>...</td>\n",
       "      <td>modified_huber</td>\n",
       "      <td>{'model': SGDClassifier(max_iter=10000), 'mode...</td>\n",
       "      <td>NaN</td>\n",
       "      <td>NaN</td>\n",
       "      <td>NaN</td>\n",
       "      <td>NaN</td>\n",
       "      <td>NaN</td>\n",
       "      <td>NaN</td>\n",
       "      <td>NaN</td>\n",
       "      <td>9</td>\n",
       "    </tr>\n",
       "    <tr>\n",
       "      <th>9</th>\n",
       "      <td>0.001196</td>\n",
       "      <td>0.000400</td>\n",
       "      <td>0.000000</td>\n",
       "      <td>0.000000e+00</td>\n",
       "      <td>SGDClassifier(max_iter=10000)</td>\n",
       "      <td>NaN</td>\n",
       "      <td>NaN</td>\n",
       "      <td>invscaling</td>\n",
       "      <td>NaN</td>\n",
       "      <td>NaN</td>\n",
       "      <td>...</td>\n",
       "      <td>modified_huber</td>\n",
       "      <td>{'model': SGDClassifier(max_iter=10000), 'mode...</td>\n",
       "      <td>NaN</td>\n",
       "      <td>NaN</td>\n",
       "      <td>NaN</td>\n",
       "      <td>NaN</td>\n",
       "      <td>NaN</td>\n",
       "      <td>NaN</td>\n",
       "      <td>NaN</td>\n",
       "      <td>10</td>\n",
       "    </tr>\n",
       "  </tbody>\n",
       "</table>\n",
       "<p>10 rows × 25 columns</p>\n",
       "</div>"
      ],
      "text/plain": [
       "   mean_fit_time  std_fit_time  mean_score_time  std_score_time  \\\n",
       "0       0.332030      0.033673         0.034904    1.649779e-02   \n",
       "1       0.037103      0.005110         0.003192    3.987313e-04   \n",
       "2       0.029121      0.000399         0.003990    3.814697e-07   \n",
       "3       0.014361      0.023241         0.001995    1.907349e-07   \n",
       "4       0.003191      0.000399         0.002194    3.990890e-04   \n",
       "5       0.280813      0.003514         0.025334    2.324826e-03   \n",
       "6       0.458634      0.073475         0.037500    5.069993e-03   \n",
       "7       0.001396      0.001354         0.000000    0.000000e+00   \n",
       "8       0.000798      0.000399         0.000000    0.000000e+00   \n",
       "9       0.001196      0.000400         0.000000    0.000000e+00   \n",
       "\n",
       "                                         param_model  \\\n",
       "0  RandomForestClassifier(ccp_alpha=0.001, class_...   \n",
       "1  XGBClassifier(base_score=None, booster=None, c...   \n",
       "2  XGBClassifier(base_score=None, booster=None, c...   \n",
       "3                      SGDClassifier(max_iter=10000)   \n",
       "4                      SGDClassifier(max_iter=10000)   \n",
       "5  RandomForestClassifier(ccp_alpha=0.001, class_...   \n",
       "6  RandomForestClassifier(ccp_alpha=0.001, class_...   \n",
       "7                      SGDClassifier(max_iter=10000)   \n",
       "8                      SGDClassifier(max_iter=10000)   \n",
       "9                      SGDClassifier(max_iter=10000)   \n",
       "\n",
       "  param_model__colsample_bytree param_model__gamma param_model__learning_rate  \\\n",
       "0                           NaN                NaN                        NaN   \n",
       "1                           0.6                 12                       0.27   \n",
       "2                           0.2                  4                       0.06   \n",
       "3                           NaN                NaN                    optimal   \n",
       "4                           NaN                NaN                    optimal   \n",
       "5                           NaN                NaN                        NaN   \n",
       "6                           NaN                NaN                        NaN   \n",
       "7                           NaN                NaN                 invscaling   \n",
       "8                           NaN                NaN                   constant   \n",
       "9                           NaN                NaN                 invscaling   \n",
       "\n",
       "  param_model__max_depth param_model__n_estimators  ... param_model__loss  \\\n",
       "0                      6                       260  ...               NaN   \n",
       "1                      8                        65  ...               NaN   \n",
       "2                      3                        69  ...               NaN   \n",
       "3                    NaN                       NaN  ...             hinge   \n",
       "4                    NaN                       NaN  ...             hinge   \n",
       "5                      1                       247  ...               NaN   \n",
       "6                      5                       332  ...               NaN   \n",
       "7                    NaN                       NaN  ...    modified_huber   \n",
       "8                    NaN                       NaN  ...    modified_huber   \n",
       "9                    NaN                       NaN  ...    modified_huber   \n",
       "\n",
       "                                              params split0_test_score  \\\n",
       "0  {'model': RandomForestClassifier(ccp_alpha=0.0...          0.981132   \n",
       "1  {'model': XGBClassifier(base_score=None, boost...          0.893082   \n",
       "2  {'model': XGBClassifier(base_score=None, boost...          0.968553   \n",
       "3  {'model': SGDClassifier(max_iter=10000), 'mode...          0.792453   \n",
       "4  {'model': SGDClassifier(max_iter=10000), 'mode...          0.874214   \n",
       "5  {'model': RandomForestClassifier(ccp_alpha=0.0...          0.500000   \n",
       "6  {'model': RandomForestClassifier(ccp_alpha=0.0...          0.500000   \n",
       "7  {'model': SGDClassifier(max_iter=10000), 'mode...               NaN   \n",
       "8  {'model': SGDClassifier(max_iter=10000), 'mode...               NaN   \n",
       "9  {'model': SGDClassifier(max_iter=10000), 'mode...               NaN   \n",
       "\n",
       "  split1_test_score split2_test_score split3_test_score split4_test_score  \\\n",
       "0          0.876858          0.949367          0.867089          0.610063   \n",
       "1          0.783439          0.895570          0.844937          0.773585   \n",
       "2          0.774947          0.949367          0.914557          0.553459   \n",
       "3          0.588110          0.977848          0.712025          0.748428   \n",
       "4          0.513800          0.911392          0.250000          0.144654   \n",
       "5          0.500000          0.500000          0.500000          0.500000   \n",
       "6          0.500000          0.500000          0.500000          0.500000   \n",
       "7               NaN               NaN               NaN               NaN   \n",
       "8               NaN               NaN               NaN               NaN   \n",
       "9               NaN               NaN               NaN               NaN   \n",
       "\n",
       "   mean_test_score  std_test_score  rank_test_score  \n",
       "0         0.856902        0.130702                1  \n",
       "1         0.838122        0.052005                2  \n",
       "2         0.832177        0.154969                3  \n",
       "3         0.763773        0.126824                4  \n",
       "4         0.538812        0.313276                5  \n",
       "5         0.500000        0.000000                6  \n",
       "6         0.500000        0.000000                6  \n",
       "7              NaN             NaN                8  \n",
       "8              NaN             NaN                9  \n",
       "9              NaN             NaN               10  \n",
       "\n",
       "[10 rows x 25 columns]"
      ]
     },
     "execution_count": 40,
     "metadata": {},
     "output_type": "execute_result"
    }
   ],
   "source": [
    "results = pd.DataFrame(grid.cv_results_).sort_values(by='rank_test_score', ignore_index=True)\n",
    "results"
   ]
  },
  {
   "cell_type": "code",
   "execution_count": 41,
   "metadata": {
    "id": "nbgAch4I4HpQ"
   },
   "outputs": [
    {
     "data": {
      "text/plain": [
       "{'model': RandomForestClassifier(ccp_alpha=0.001, class_weight={0: 0.01, 1: 1},\n",
       "                        max_depth=6, min_samples_leaf=4, min_samples_split=6,\n",
       "                        n_estimators=260),\n",
       " 'model__ccp_alpha': 0.001,\n",
       " 'model__class_weight': {0: 0.01, 1: 1},\n",
       " 'model__max_depth': 6,\n",
       " 'model__min_samples_leaf': 4,\n",
       " 'model__min_samples_split': 6,\n",
       " 'model__n_estimators': 260}"
      ]
     },
     "execution_count": 41,
     "metadata": {},
     "output_type": "execute_result"
    }
   ],
   "source": [
    "grid.best_params_"
   ]
  },
  {
   "cell_type": "code",
   "execution_count": 42,
   "metadata": {
    "id": "P0855Yr92mdO"
   },
   "outputs": [
    {
     "data": {
      "text/html": [
       "<style>#sk-container-id-2 {color: black;background-color: white;}#sk-container-id-2 pre{padding: 0;}#sk-container-id-2 div.sk-toggleable {background-color: white;}#sk-container-id-2 label.sk-toggleable__label {cursor: pointer;display: block;width: 100%;margin-bottom: 0;padding: 0.3em;box-sizing: border-box;text-align: center;}#sk-container-id-2 label.sk-toggleable__label-arrow:before {content: \"▸\";float: left;margin-right: 0.25em;color: #696969;}#sk-container-id-2 label.sk-toggleable__label-arrow:hover:before {color: black;}#sk-container-id-2 div.sk-estimator:hover label.sk-toggleable__label-arrow:before {color: black;}#sk-container-id-2 div.sk-toggleable__content {max-height: 0;max-width: 0;overflow: hidden;text-align: left;background-color: #f0f8ff;}#sk-container-id-2 div.sk-toggleable__content pre {margin: 0.2em;color: black;border-radius: 0.25em;background-color: #f0f8ff;}#sk-container-id-2 input.sk-toggleable__control:checked~div.sk-toggleable__content {max-height: 200px;max-width: 100%;overflow: auto;}#sk-container-id-2 input.sk-toggleable__control:checked~label.sk-toggleable__label-arrow:before {content: \"▾\";}#sk-container-id-2 div.sk-estimator input.sk-toggleable__control:checked~label.sk-toggleable__label {background-color: #d4ebff;}#sk-container-id-2 div.sk-label input.sk-toggleable__control:checked~label.sk-toggleable__label {background-color: #d4ebff;}#sk-container-id-2 input.sk-hidden--visually {border: 0;clip: rect(1px 1px 1px 1px);clip: rect(1px, 1px, 1px, 1px);height: 1px;margin: -1px;overflow: hidden;padding: 0;position: absolute;width: 1px;}#sk-container-id-2 div.sk-estimator {font-family: monospace;background-color: #f0f8ff;border: 1px dotted black;border-radius: 0.25em;box-sizing: border-box;margin-bottom: 0.5em;}#sk-container-id-2 div.sk-estimator:hover {background-color: #d4ebff;}#sk-container-id-2 div.sk-parallel-item::after {content: \"\";width: 100%;border-bottom: 1px solid gray;flex-grow: 1;}#sk-container-id-2 div.sk-label:hover label.sk-toggleable__label {background-color: #d4ebff;}#sk-container-id-2 div.sk-serial::before {content: \"\";position: absolute;border-left: 1px solid gray;box-sizing: border-box;top: 0;bottom: 0;left: 50%;z-index: 0;}#sk-container-id-2 div.sk-serial {display: flex;flex-direction: column;align-items: center;background-color: white;padding-right: 0.2em;padding-left: 0.2em;position: relative;}#sk-container-id-2 div.sk-item {position: relative;z-index: 1;}#sk-container-id-2 div.sk-parallel {display: flex;align-items: stretch;justify-content: center;background-color: white;position: relative;}#sk-container-id-2 div.sk-item::before, #sk-container-id-2 div.sk-parallel-item::before {content: \"\";position: absolute;border-left: 1px solid gray;box-sizing: border-box;top: 0;bottom: 0;left: 50%;z-index: -1;}#sk-container-id-2 div.sk-parallel-item {display: flex;flex-direction: column;z-index: 1;position: relative;background-color: white;}#sk-container-id-2 div.sk-parallel-item:first-child::after {align-self: flex-end;width: 50%;}#sk-container-id-2 div.sk-parallel-item:last-child::after {align-self: flex-start;width: 50%;}#sk-container-id-2 div.sk-parallel-item:only-child::after {width: 0;}#sk-container-id-2 div.sk-dashed-wrapped {border: 1px dashed gray;margin: 0 0.4em 0.5em 0.4em;box-sizing: border-box;padding-bottom: 0.4em;background-color: white;}#sk-container-id-2 div.sk-label label {font-family: monospace;font-weight: bold;display: inline-block;line-height: 1.2em;}#sk-container-id-2 div.sk-label-container {text-align: center;}#sk-container-id-2 div.sk-container {/* jupyter's `normalize.less` sets `[hidden] { display: none; }` but bootstrap.min.css set `[hidden] { display: none !important; }` so we also need the `!important` here to be able to override the default hidden behavior on the sphinx rendered scikit-learn.org. See: https://github.com/scikit-learn/scikit-learn/issues/21755 */display: inline-block !important;position: relative;}#sk-container-id-2 div.sk-text-repr-fallback {display: none;}</style><div id=\"sk-container-id-2\" class=\"sk-top-container\"><div class=\"sk-text-repr-fallback\"><pre>Pipeline(steps=[(&#x27;model&#x27;,\n",
       "                 RandomForestClassifier(ccp_alpha=0.001,\n",
       "                                        class_weight={0: 0.01, 1: 1},\n",
       "                                        max_depth=6, min_samples_leaf=4,\n",
       "                                        min_samples_split=6,\n",
       "                                        n_estimators=260))])</pre><b>In a Jupyter environment, please rerun this cell to show the HTML representation or trust the notebook. <br />On GitHub, the HTML representation is unable to render, please try loading this page with nbviewer.org.</b></div><div class=\"sk-container\" hidden><div class=\"sk-item sk-dashed-wrapped\"><div class=\"sk-label-container\"><div class=\"sk-label sk-toggleable\"><input class=\"sk-toggleable__control sk-hidden--visually\" id=\"sk-estimator-id-4\" type=\"checkbox\" ><label for=\"sk-estimator-id-4\" class=\"sk-toggleable__label sk-toggleable__label-arrow\">Pipeline</label><div class=\"sk-toggleable__content\"><pre>Pipeline(steps=[(&#x27;model&#x27;,\n",
       "                 RandomForestClassifier(ccp_alpha=0.001,\n",
       "                                        class_weight={0: 0.01, 1: 1},\n",
       "                                        max_depth=6, min_samples_leaf=4,\n",
       "                                        min_samples_split=6,\n",
       "                                        n_estimators=260))])</pre></div></div></div><div class=\"sk-serial\"><div class=\"sk-item\"><div class=\"sk-estimator sk-toggleable\"><input class=\"sk-toggleable__control sk-hidden--visually\" id=\"sk-estimator-id-5\" type=\"checkbox\" ><label for=\"sk-estimator-id-5\" class=\"sk-toggleable__label sk-toggleable__label-arrow\">RandomForestClassifier</label><div class=\"sk-toggleable__content\"><pre>RandomForestClassifier(ccp_alpha=0.001, class_weight={0: 0.01, 1: 1},\n",
       "                       max_depth=6, min_samples_leaf=4, min_samples_split=6,\n",
       "                       n_estimators=260)</pre></div></div></div></div></div></div></div>"
      ],
      "text/plain": [
       "Pipeline(steps=[('model',\n",
       "                 RandomForestClassifier(ccp_alpha=0.001,\n",
       "                                        class_weight={0: 0.01, 1: 1},\n",
       "                                        max_depth=6, min_samples_leaf=4,\n",
       "                                        min_samples_split=6,\n",
       "                                        n_estimators=260))])"
      ]
     },
     "execution_count": 42,
     "metadata": {},
     "output_type": "execute_result"
    }
   ],
   "source": [
    "pipe_model.set_params(**grid.best_params_)"
   ]
  },
  {
   "cell_type": "code",
   "execution_count": 43,
   "metadata": {
    "id": "6_Sias387re1"
   },
   "outputs": [
    {
     "data": {
      "text/html": [
       "<style>#sk-container-id-3 {color: black;background-color: white;}#sk-container-id-3 pre{padding: 0;}#sk-container-id-3 div.sk-toggleable {background-color: white;}#sk-container-id-3 label.sk-toggleable__label {cursor: pointer;display: block;width: 100%;margin-bottom: 0;padding: 0.3em;box-sizing: border-box;text-align: center;}#sk-container-id-3 label.sk-toggleable__label-arrow:before {content: \"▸\";float: left;margin-right: 0.25em;color: #696969;}#sk-container-id-3 label.sk-toggleable__label-arrow:hover:before {color: black;}#sk-container-id-3 div.sk-estimator:hover label.sk-toggleable__label-arrow:before {color: black;}#sk-container-id-3 div.sk-toggleable__content {max-height: 0;max-width: 0;overflow: hidden;text-align: left;background-color: #f0f8ff;}#sk-container-id-3 div.sk-toggleable__content pre {margin: 0.2em;color: black;border-radius: 0.25em;background-color: #f0f8ff;}#sk-container-id-3 input.sk-toggleable__control:checked~div.sk-toggleable__content {max-height: 200px;max-width: 100%;overflow: auto;}#sk-container-id-3 input.sk-toggleable__control:checked~label.sk-toggleable__label-arrow:before {content: \"▾\";}#sk-container-id-3 div.sk-estimator input.sk-toggleable__control:checked~label.sk-toggleable__label {background-color: #d4ebff;}#sk-container-id-3 div.sk-label input.sk-toggleable__control:checked~label.sk-toggleable__label {background-color: #d4ebff;}#sk-container-id-3 input.sk-hidden--visually {border: 0;clip: rect(1px 1px 1px 1px);clip: rect(1px, 1px, 1px, 1px);height: 1px;margin: -1px;overflow: hidden;padding: 0;position: absolute;width: 1px;}#sk-container-id-3 div.sk-estimator {font-family: monospace;background-color: #f0f8ff;border: 1px dotted black;border-radius: 0.25em;box-sizing: border-box;margin-bottom: 0.5em;}#sk-container-id-3 div.sk-estimator:hover {background-color: #d4ebff;}#sk-container-id-3 div.sk-parallel-item::after {content: \"\";width: 100%;border-bottom: 1px solid gray;flex-grow: 1;}#sk-container-id-3 div.sk-label:hover label.sk-toggleable__label {background-color: #d4ebff;}#sk-container-id-3 div.sk-serial::before {content: \"\";position: absolute;border-left: 1px solid gray;box-sizing: border-box;top: 0;bottom: 0;left: 50%;z-index: 0;}#sk-container-id-3 div.sk-serial {display: flex;flex-direction: column;align-items: center;background-color: white;padding-right: 0.2em;padding-left: 0.2em;position: relative;}#sk-container-id-3 div.sk-item {position: relative;z-index: 1;}#sk-container-id-3 div.sk-parallel {display: flex;align-items: stretch;justify-content: center;background-color: white;position: relative;}#sk-container-id-3 div.sk-item::before, #sk-container-id-3 div.sk-parallel-item::before {content: \"\";position: absolute;border-left: 1px solid gray;box-sizing: border-box;top: 0;bottom: 0;left: 50%;z-index: -1;}#sk-container-id-3 div.sk-parallel-item {display: flex;flex-direction: column;z-index: 1;position: relative;background-color: white;}#sk-container-id-3 div.sk-parallel-item:first-child::after {align-self: flex-end;width: 50%;}#sk-container-id-3 div.sk-parallel-item:last-child::after {align-self: flex-start;width: 50%;}#sk-container-id-3 div.sk-parallel-item:only-child::after {width: 0;}#sk-container-id-3 div.sk-dashed-wrapped {border: 1px dashed gray;margin: 0 0.4em 0.5em 0.4em;box-sizing: border-box;padding-bottom: 0.4em;background-color: white;}#sk-container-id-3 div.sk-label label {font-family: monospace;font-weight: bold;display: inline-block;line-height: 1.2em;}#sk-container-id-3 div.sk-label-container {text-align: center;}#sk-container-id-3 div.sk-container {/* jupyter's `normalize.less` sets `[hidden] { display: none; }` but bootstrap.min.css set `[hidden] { display: none !important; }` so we also need the `!important` here to be able to override the default hidden behavior on the sphinx rendered scikit-learn.org. See: https://github.com/scikit-learn/scikit-learn/issues/21755 */display: inline-block !important;position: relative;}#sk-container-id-3 div.sk-text-repr-fallback {display: none;}</style><div id=\"sk-container-id-3\" class=\"sk-top-container\"><div class=\"sk-text-repr-fallback\"><pre>Pipeline(steps=[(&#x27;model&#x27;,\n",
       "                 RandomForestClassifier(ccp_alpha=0.001,\n",
       "                                        class_weight={0: 0.01, 1: 1},\n",
       "                                        max_depth=6, min_samples_leaf=4,\n",
       "                                        min_samples_split=6,\n",
       "                                        n_estimators=260))])</pre><b>In a Jupyter environment, please rerun this cell to show the HTML representation or trust the notebook. <br />On GitHub, the HTML representation is unable to render, please try loading this page with nbviewer.org.</b></div><div class=\"sk-container\" hidden><div class=\"sk-item sk-dashed-wrapped\"><div class=\"sk-label-container\"><div class=\"sk-label sk-toggleable\"><input class=\"sk-toggleable__control sk-hidden--visually\" id=\"sk-estimator-id-6\" type=\"checkbox\" ><label for=\"sk-estimator-id-6\" class=\"sk-toggleable__label sk-toggleable__label-arrow\">Pipeline</label><div class=\"sk-toggleable__content\"><pre>Pipeline(steps=[(&#x27;model&#x27;,\n",
       "                 RandomForestClassifier(ccp_alpha=0.001,\n",
       "                                        class_weight={0: 0.01, 1: 1},\n",
       "                                        max_depth=6, min_samples_leaf=4,\n",
       "                                        min_samples_split=6,\n",
       "                                        n_estimators=260))])</pre></div></div></div><div class=\"sk-serial\"><div class=\"sk-item\"><div class=\"sk-estimator sk-toggleable\"><input class=\"sk-toggleable__control sk-hidden--visually\" id=\"sk-estimator-id-7\" type=\"checkbox\" ><label for=\"sk-estimator-id-7\" class=\"sk-toggleable__label sk-toggleable__label-arrow\">RandomForestClassifier</label><div class=\"sk-toggleable__content\"><pre>RandomForestClassifier(ccp_alpha=0.001, class_weight={0: 0.01, 1: 1},\n",
       "                       max_depth=6, min_samples_leaf=4, min_samples_split=6,\n",
       "                       n_estimators=260)</pre></div></div></div></div></div></div></div>"
      ],
      "text/plain": [
       "Pipeline(steps=[('model',\n",
       "                 RandomForestClassifier(ccp_alpha=0.001,\n",
       "                                        class_weight={0: 0.01, 1: 1},\n",
       "                                        max_depth=6, min_samples_leaf=4,\n",
       "                                        min_samples_split=6,\n",
       "                                        n_estimators=260))])"
      ]
     },
     "execution_count": 43,
     "metadata": {},
     "output_type": "execute_result"
    }
   ],
   "source": [
    "pipe_model.fit(X_train, y_train)"
   ]
  },
  {
   "cell_type": "code",
   "execution_count": 44,
   "metadata": {
    "id": "SSp1bja27drK"
   },
   "outputs": [
    {
     "data": {
      "text/plain": [
       "0.6616161616161617"
      ]
     },
     "execution_count": 44,
     "metadata": {},
     "output_type": "execute_result"
    }
   ],
   "source": [
    "roc_auc_score(y_test, pipe_model.predict_proba(X_test)[:,1])\n",
    "#0.6367772773232835\n",
    "#0.6629745381009284\n",
    "#0.6700523945215553\n",
    "#0.6852192297086129\n",
    "#0.7369426445719696\n",
    "#0.7514195648520064\n",
    "#0.7659560067681895"
   ]
  },
  {
   "cell_type": "code",
   "execution_count": 45,
   "metadata": {},
   "outputs": [
    {
     "data": {
      "text/plain": [
       "2"
      ]
     },
     "execution_count": 45,
     "metadata": {},
     "output_type": "execute_result"
    }
   ],
   "source": [
    "y_test.sum()"
   ]
  },
  {
   "cell_type": "code",
   "execution_count": 46,
   "metadata": {},
   "outputs": [
    {
     "data": {
      "text/plain": [
       "array([[0.94913963, 0.05086037],\n",
       "       [0.8384268 , 0.1615732 ],\n",
       "       [0.9411481 , 0.0588519 ],\n",
       "       [0.99186748, 0.00813252],\n",
       "       [0.85047293, 0.14952707],\n",
       "       [0.99295218, 0.00704782],\n",
       "       [0.99622926, 0.00377074],\n",
       "       [0.99707993, 0.00292007],\n",
       "       [0.99257379, 0.00742621],\n",
       "       [0.99498393, 0.00501607],\n",
       "       [0.95842591, 0.04157409],\n",
       "       [0.99707993, 0.00292007],\n",
       "       [0.99290655, 0.00709345],\n",
       "       [0.9832564 , 0.0167436 ],\n",
       "       [0.87756697, 0.12243303],\n",
       "       [1.        , 0.        ],\n",
       "       [0.98520531, 0.01479469],\n",
       "       [1.        , 0.        ],\n",
       "       [0.81786576, 0.18213424],\n",
       "       [0.87339058, 0.12660942],\n",
       "       [0.80176525, 0.19823475],\n",
       "       [0.97150586, 0.02849414],\n",
       "       [0.94517041, 0.05482959],\n",
       "       [0.98751462, 0.01248538],\n",
       "       [1.        , 0.        ],\n",
       "       [0.99065097, 0.00934903],\n",
       "       [1.        , 0.        ],\n",
       "       [0.98360291, 0.01639709],\n",
       "       [0.94083961, 0.05916039],\n",
       "       [0.91329105, 0.08670895],\n",
       "       [0.997904  , 0.002096  ],\n",
       "       [1.        , 0.        ],\n",
       "       [0.97165611, 0.02834389],\n",
       "       [0.97290329, 0.02709671],\n",
       "       [0.93414677, 0.06585323],\n",
       "       [0.91380893, 0.08619107],\n",
       "       [1.        , 0.        ],\n",
       "       [0.96963752, 0.03036248],\n",
       "       [0.99065097, 0.00934903],\n",
       "       [0.74413846, 0.25586154],\n",
       "       [0.98145838, 0.01854162],\n",
       "       [0.99630178, 0.00369822],\n",
       "       [0.99682136, 0.00317864],\n",
       "       [1.        , 0.        ],\n",
       "       [0.89019937, 0.10980063],\n",
       "       [0.78163397, 0.21836603],\n",
       "       [0.94045981, 0.05954019],\n",
       "       [0.99289363, 0.00710637],\n",
       "       [0.92038137, 0.07961863],\n",
       "       [0.98166249, 0.01833751],\n",
       "       [1.        , 0.        ],\n",
       "       [0.80471557, 0.19528443],\n",
       "       [0.85690736, 0.14309264],\n",
       "       [0.89917148, 0.10082852],\n",
       "       [1.        , 0.        ],\n",
       "       [0.91969032, 0.08030968],\n",
       "       [0.99704142, 0.00295858],\n",
       "       [1.        , 0.        ],\n",
       "       [0.96941632, 0.03058368],\n",
       "       [0.95743976, 0.04256024],\n",
       "       [0.95762246, 0.04237754],\n",
       "       [0.99682136, 0.00317864],\n",
       "       [1.        , 0.        ],\n",
       "       [0.83536436, 0.16463564],\n",
       "       [0.98706791, 0.01293209],\n",
       "       [1.        , 0.        ],\n",
       "       [0.88563577, 0.11436423],\n",
       "       [1.        , 0.        ],\n",
       "       [0.996535  , 0.003465  ],\n",
       "       [0.63272849, 0.36727151],\n",
       "       [0.72747823, 0.27252177],\n",
       "       [0.99413174, 0.00586826],\n",
       "       [0.98969273, 0.01030727],\n",
       "       [0.86890344, 0.13109656],\n",
       "       [0.98803647, 0.01196353],\n",
       "       [0.94187482, 0.05812518],\n",
       "       [0.9814547 , 0.0185453 ],\n",
       "       [0.99377378, 0.00622622],\n",
       "       [0.97699625, 0.02300375],\n",
       "       [0.9481537 , 0.0518463 ],\n",
       "       [0.70517789, 0.29482211],\n",
       "       [0.79321037, 0.20678963],\n",
       "       [0.96101512, 0.03898488],\n",
       "       [0.6858575 , 0.3141425 ],\n",
       "       [0.9850991 , 0.0149009 ],\n",
       "       [0.95442692, 0.04557308],\n",
       "       [0.96714263, 0.03285737],\n",
       "       [0.78969002, 0.21030998],\n",
       "       [0.93952426, 0.06047574],\n",
       "       [0.87751134, 0.12248866],\n",
       "       [0.99251962, 0.00748038],\n",
       "       [0.99065097, 0.00934903],\n",
       "       [1.        , 0.        ],\n",
       "       [0.96143405, 0.03856595],\n",
       "       [0.86736026, 0.13263974],\n",
       "       [0.99357105, 0.00642895],\n",
       "       [0.98290407, 0.01709593],\n",
       "       [0.6122454 , 0.3877546 ],\n",
       "       [0.95716648, 0.04283352],\n",
       "       [0.85767541, 0.14232459],\n",
       "       [0.98665894, 0.01334106],\n",
       "       [0.9933458 , 0.0066542 ],\n",
       "       [0.88676829, 0.11323171],\n",
       "       [0.94467264, 0.05532736],\n",
       "       [0.98222627, 0.01777373],\n",
       "       [0.98227521, 0.01772479],\n",
       "       [0.86620887, 0.13379113],\n",
       "       [0.96304972, 0.03695028],\n",
       "       [0.99290655, 0.00709345],\n",
       "       [0.87551556, 0.12448444],\n",
       "       [1.        , 0.        ],\n",
       "       [0.95953512, 0.04046488],\n",
       "       [0.88159411, 0.11840589],\n",
       "       [0.99783924, 0.00216076],\n",
       "       [0.77117101, 0.22882899],\n",
       "       [0.88323086, 0.11676914],\n",
       "       [0.82252834, 0.17747166],\n",
       "       [0.99251352, 0.00748648],\n",
       "       [0.97585858, 0.02414142],\n",
       "       [0.99290655, 0.00709345],\n",
       "       [0.99498393, 0.00501607],\n",
       "       [0.94852928, 0.05147072],\n",
       "       [0.96521348, 0.03478652],\n",
       "       [0.99276072, 0.00723928],\n",
       "       [0.599151  , 0.400849  ],\n",
       "       [0.5683723 , 0.4316277 ],\n",
       "       [0.91086487, 0.08913513],\n",
       "       [1.        , 0.        ],\n",
       "       [0.99252892, 0.00747108],\n",
       "       [0.99485672, 0.00514328],\n",
       "       [0.9819847 , 0.0180153 ],\n",
       "       [0.98926016, 0.01073984],\n",
       "       [0.99511295, 0.00488705],\n",
       "       [0.98525591, 0.01474409],\n",
       "       [1.        , 0.        ],\n",
       "       [0.98922322, 0.01077678],\n",
       "       [0.95629479, 0.04370521],\n",
       "       [1.        , 0.        ],\n",
       "       [0.9814547 , 0.0185453 ],\n",
       "       [1.        , 0.        ],\n",
       "       [0.97699625, 0.02300375],\n",
       "       [0.97997777, 0.02002223],\n",
       "       [0.96691027, 0.03308973],\n",
       "       [0.99707993, 0.00292007],\n",
       "       [0.98572509, 0.01427491],\n",
       "       [0.98978548, 0.01021452],\n",
       "       [0.98753452, 0.01246548],\n",
       "       [0.98543852, 0.01456148],\n",
       "       [1.        , 0.        ],\n",
       "       [0.99669148, 0.00330852],\n",
       "       [0.99357105, 0.00642895],\n",
       "       [0.96559584, 0.03440416],\n",
       "       [0.96196378, 0.03803622],\n",
       "       [0.98444762, 0.01555238],\n",
       "       [0.97875718, 0.02124282],\n",
       "       [1.        , 0.        ],\n",
       "       [1.        , 0.        ],\n",
       "       [0.94920218, 0.05079782],\n",
       "       [0.9075079 , 0.0924921 ],\n",
       "       [0.99707993, 0.00292007],\n",
       "       [0.97943227, 0.02056773],\n",
       "       [0.9965035 , 0.0034965 ],\n",
       "       [0.85957528, 0.14042472],\n",
       "       [0.98284962, 0.01715038],\n",
       "       [0.99065097, 0.00934903],\n",
       "       [0.98222627, 0.01777373],\n",
       "       [0.97943227, 0.02056773],\n",
       "       [0.97075778, 0.02924222],\n",
       "       [0.98323805, 0.01676195],\n",
       "       [0.79933068, 0.20066932],\n",
       "       [0.99626587, 0.00373413],\n",
       "       [0.95057256, 0.04942744],\n",
       "       [0.72744556, 0.27255444],\n",
       "       [0.98581835, 0.01418165],\n",
       "       [0.9875052 , 0.0124948 ],\n",
       "       [0.78519505, 0.21480495],\n",
       "       [0.997904  , 0.002096  ],\n",
       "       [1.        , 0.        ],\n",
       "       [0.98656492, 0.01343508],\n",
       "       [1.        , 0.        ],\n",
       "       [0.97595298, 0.02404702],\n",
       "       [0.9964198 , 0.0035802 ],\n",
       "       [0.99370224, 0.00629776],\n",
       "       [0.97866586, 0.02133414],\n",
       "       [0.87871325, 0.12128675],\n",
       "       [0.997904  , 0.002096  ],\n",
       "       [1.        , 0.        ],\n",
       "       [1.        , 0.        ],\n",
       "       [0.99498393, 0.00501607],\n",
       "       [0.82299243, 0.17700757],\n",
       "       [0.7678207 , 0.2321793 ],\n",
       "       [0.98930735, 0.01069265],\n",
       "       [0.98940153, 0.01059847],\n",
       "       [0.96789113, 0.03210887],\n",
       "       [1.        , 0.        ],\n",
       "       [0.97843232, 0.02156768],\n",
       "       [0.9441548 , 0.0558452 ],\n",
       "       [0.96577214, 0.03422786],\n",
       "       [0.67261242, 0.32738758],\n",
       "       [0.86361536, 0.13638464]])"
      ]
     },
     "execution_count": 46,
     "metadata": {},
     "output_type": "execute_result"
    }
   ],
   "source": [
    "pipe_model.predict_proba(X_test)"
   ]
  },
  {
   "cell_type": "code",
   "execution_count": 47,
   "metadata": {
    "id": "-ZJjNBE0ZpB7"
   },
   "outputs": [],
   "source": [
    "def plot_confusion_matrix(y_test, y_pred):\n",
    "    cf_matrix = confusion_matrix(y_test, y_pred)\n",
    "    ax = sns.heatmap(cf_matrix, annot=True, cmap='Blues')\n",
    "    ax.set_title('Confusion Matrix');\n",
    "    ax.set_xlabel('\\nPredicted Values')\n",
    "    ax.set_ylabel('Actual Values ');\n",
    "    ax.xaxis.set_ticklabels(['False','True'])\n",
    "    ax.yaxis.set_ticklabels(['False','True'])\n",
    "    return plt.show()\n",
    "\n",
    "def get_results(model_name, model, X_test, y_test):\n",
    "    auc = round(roc_auc_score(y_test, model.predict(X_test)), 3)\n",
    "    precision = round(precision_score(y_test, model.predict(X_test)), 3)\n",
    "    accuracy = round(accuracy_score(y_test, model.predict(X_test)), 3)\n",
    "    print(f'model: {model_name}\\n')\n",
    "    print(f'accuracy_score: {accuracy}')\n",
    "    print(f'roc_auc_score: {auc}')\n",
    "    print(f'precision_score: {precision}\\n')\n",
    "    plot_confusion_matrix(y_test=y_test, y_pred=model.predict(X_test))\n",
    "    return auc"
   ]
  },
  {
   "cell_type": "code",
   "execution_count": 48,
   "metadata": {
    "colab": {
     "base_uri": "https://localhost:8080/",
     "height": 473
    },
    "id": "VH01umRmkBJ6",
    "outputId": "d7cc90f8-233c-4222-ef0f-22aadb09d45c"
   },
   "outputs": [
    {
     "name": "stderr",
     "output_type": "stream",
     "text": [
      "D:\\anaconda\\envs\\myenv\\lib\\site-packages\\sklearn\\metrics\\_classification.py:1327: UndefinedMetricWarning: Precision is ill-defined and being set to 0.0 due to no predicted samples. Use `zero_division` parameter to control this behavior.\n",
      "  _warn_prf(average, modifier, msg_start, len(result))\n"
     ]
    },
    {
     "name": "stdout",
     "output_type": "stream",
     "text": [
      "model: RandomForestClassifier(ccp_alpha=0.001, class_weight={0: 0.01, 1: 1},\n",
      "                       max_depth=6, min_samples_leaf=4, min_samples_split=6,\n",
      "                       n_estimators=260)\n",
      "\n",
      "accuracy_score: 0.99\n",
      "roc_auc_score: 0.5\n",
      "precision_score: 0.0\n",
      "\n"
     ]
    },
    {
     "data": {
      "image/png": "[encoded data removed]",
      "text/plain": [
       "<Figure size 432x288 with 2 Axes>"
      ]
     },
     "metadata": {
      "needs_background": "light"
     },
     "output_type": "display_data"
    },
    {
     "data": {
      "text/plain": [
       "0.5"
      ]
     },
     "execution_count": 48,
     "metadata": {},
     "output_type": "execute_result"
    }
   ],
   "source": [
    "get_results(model_name=grid.best_params_['model'], model=pipe_model, X_test=X_test, y_test=y_test)"
   ]
  },
  {
   "cell_type": "markdown",
   "metadata": {
    "id": "Y61Zj2VZX4Op"
   },
   "source": [
    "# Prediction of test data"
   ]
  },
  {
   "cell_type": "code",
   "execution_count": 49,
   "metadata": {
    "colab": {
     "base_uri": "https://localhost:8080/",
     "height": 904
    },
    "id": "pTpO0KotWzcY",
    "outputId": "b9f4019d-e328-4af5-df79-ad48ba2ae306"
   },
   "outputs": [
    {
     "data": {
      "text/html": [
       "<div>\n",
       "<style scoped>\n",
       "    .dataframe tbody tr th:only-of-type {\n",
       "        vertical-align: middle;\n",
       "    }\n",
       "\n",
       "    .dataframe tbody tr th {\n",
       "        vertical-align: top;\n",
       "    }\n",
       "\n",
       "    .dataframe thead th {\n",
       "        text-align: right;\n",
       "    }\n",
       "</style>\n",
       "<table border=\"1\" class=\"dataframe\">\n",
       "  <thead>\n",
       "    <tr style=\"text-align: right;\">\n",
       "      <th></th>\n",
       "      <th>ID</th>\n",
       "      <th>Gender</th>\n",
       "      <th>City</th>\n",
       "      <th>Monthly_Income</th>\n",
       "      <th>DOB</th>\n",
       "      <th>Lead_Creation_Date</th>\n",
       "      <th>Loan_Amount_Applied</th>\n",
       "      <th>Loan_Tenure_Applied</th>\n",
       "      <th>Existing_EMI</th>\n",
       "      <th>Employer_Name</th>\n",
       "      <th>...</th>\n",
       "      <th>Loan_Amount_Submitted</th>\n",
       "      <th>Loan_Tenure_Submitted</th>\n",
       "      <th>Interest_Rate</th>\n",
       "      <th>Processing_Fee</th>\n",
       "      <th>EMI_Loan_Submitted</th>\n",
       "      <th>Filled_Form</th>\n",
       "      <th>Device_Type</th>\n",
       "      <th>Var2</th>\n",
       "      <th>Source</th>\n",
       "      <th>Var4</th>\n",
       "    </tr>\n",
       "  </thead>\n",
       "  <tbody>\n",
       "    <tr>\n",
       "      <th>0</th>\n",
       "      <td>ID000026A10</td>\n",
       "      <td>Male</td>\n",
       "      <td>Dehradun</td>\n",
       "      <td>21500</td>\n",
       "      <td>03-Apr-87</td>\n",
       "      <td>05-May-15</td>\n",
       "      <td>100000.0</td>\n",
       "      <td>3.0</td>\n",
       "      <td>0.0</td>\n",
       "      <td>APTARA INC</td>\n",
       "      <td>...</td>\n",
       "      <td>100000.0</td>\n",
       "      <td>3.0</td>\n",
       "      <td>20.0</td>\n",
       "      <td>1000.0</td>\n",
       "      <td>2649.39</td>\n",
       "      <td>N</td>\n",
       "      <td>Web-browser</td>\n",
       "      <td>B</td>\n",
       "      <td>S122</td>\n",
       "      <td>3</td>\n",
       "    </tr>\n",
       "    <tr>\n",
       "      <th>1</th>\n",
       "      <td>ID000054C40</td>\n",
       "      <td>Male</td>\n",
       "      <td>Mumbai</td>\n",
       "      <td>42000</td>\n",
       "      <td>12-May-80</td>\n",
       "      <td>01-May-15</td>\n",
       "      <td>0.0</td>\n",
       "      <td>0.0</td>\n",
       "      <td>0.0</td>\n",
       "      <td>ATUL LTD</td>\n",
       "      <td>...</td>\n",
       "      <td>690000.0</td>\n",
       "      <td>5.0</td>\n",
       "      <td>24.0</td>\n",
       "      <td>13800.0</td>\n",
       "      <td>19849.90</td>\n",
       "      <td>Y</td>\n",
       "      <td>Mobile</td>\n",
       "      <td>C</td>\n",
       "      <td>S133</td>\n",
       "      <td>5</td>\n",
       "    </tr>\n",
       "    <tr>\n",
       "      <th>2</th>\n",
       "      <td>ID000066O10</td>\n",
       "      <td>Female</td>\n",
       "      <td>Jaipur</td>\n",
       "      <td>10000</td>\n",
       "      <td>19-Sep-89</td>\n",
       "      <td>01-May-15</td>\n",
       "      <td>300000.0</td>\n",
       "      <td>2.0</td>\n",
       "      <td>0.0</td>\n",
       "      <td>SHAREKHAN PVT LTD</td>\n",
       "      <td>...</td>\n",
       "      <td>NaN</td>\n",
       "      <td>NaN</td>\n",
       "      <td>NaN</td>\n",
       "      <td>NaN</td>\n",
       "      <td>NaN</td>\n",
       "      <td>N</td>\n",
       "      <td>Web-browser</td>\n",
       "      <td>B</td>\n",
       "      <td>S133</td>\n",
       "      <td>1</td>\n",
       "    </tr>\n",
       "    <tr>\n",
       "      <th>3</th>\n",
       "      <td>ID000110G00</td>\n",
       "      <td>Female</td>\n",
       "      <td>Chennai</td>\n",
       "      <td>14650</td>\n",
       "      <td>15-Aug-91</td>\n",
       "      <td>01-May-15</td>\n",
       "      <td>0.0</td>\n",
       "      <td>0.0</td>\n",
       "      <td>0.0</td>\n",
       "      <td>MAERSK GLOBAL SERVICE CENTRES</td>\n",
       "      <td>...</td>\n",
       "      <td>NaN</td>\n",
       "      <td>NaN</td>\n",
       "      <td>NaN</td>\n",
       "      <td>NaN</td>\n",
       "      <td>NaN</td>\n",
       "      <td>N</td>\n",
       "      <td>Mobile</td>\n",
       "      <td>C</td>\n",
       "      <td>S133</td>\n",
       "      <td>1</td>\n",
       "    </tr>\n",
       "    <tr>\n",
       "      <th>4</th>\n",
       "      <td>ID000113J30</td>\n",
       "      <td>Male</td>\n",
       "      <td>Chennai</td>\n",
       "      <td>23400</td>\n",
       "      <td>22-Jul-87</td>\n",
       "      <td>01-May-15</td>\n",
       "      <td>100000.0</td>\n",
       "      <td>1.0</td>\n",
       "      <td>5000.0</td>\n",
       "      <td>SCHAWK</td>\n",
       "      <td>...</td>\n",
       "      <td>100000.0</td>\n",
       "      <td>2.0</td>\n",
       "      <td>NaN</td>\n",
       "      <td>NaN</td>\n",
       "      <td>NaN</td>\n",
       "      <td>N</td>\n",
       "      <td>Web-browser</td>\n",
       "      <td>B</td>\n",
       "      <td>S143</td>\n",
       "      <td>1</td>\n",
       "    </tr>\n",
       "    <tr>\n",
       "      <th>...</th>\n",
       "      <td>...</td>\n",
       "      <td>...</td>\n",
       "      <td>...</td>\n",
       "      <td>...</td>\n",
       "      <td>...</td>\n",
       "      <td>...</td>\n",
       "      <td>...</td>\n",
       "      <td>...</td>\n",
       "      <td>...</td>\n",
       "      <td>...</td>\n",
       "      <td>...</td>\n",
       "      <td>...</td>\n",
       "      <td>...</td>\n",
       "      <td>...</td>\n",
       "      <td>...</td>\n",
       "      <td>...</td>\n",
       "      <td>...</td>\n",
       "      <td>...</td>\n",
       "      <td>...</td>\n",
       "      <td>...</td>\n",
       "      <td>...</td>\n",
       "    </tr>\n",
       "    <tr>\n",
       "      <th>37712</th>\n",
       "      <td>ID124809J40</td>\n",
       "      <td>Female</td>\n",
       "      <td>Ponda</td>\n",
       "      <td>40000</td>\n",
       "      <td>28-Dec-71</td>\n",
       "      <td>31-Jul-15</td>\n",
       "      <td>1000000.0</td>\n",
       "      <td>4.0</td>\n",
       "      <td>10000.0</td>\n",
       "      <td>GOVT EMPLOYEE</td>\n",
       "      <td>...</td>\n",
       "      <td>NaN</td>\n",
       "      <td>NaN</td>\n",
       "      <td>NaN</td>\n",
       "      <td>NaN</td>\n",
       "      <td>NaN</td>\n",
       "      <td>N</td>\n",
       "      <td>Web-browser</td>\n",
       "      <td>G</td>\n",
       "      <td>S122</td>\n",
       "      <td>3</td>\n",
       "    </tr>\n",
       "    <tr>\n",
       "      <th>37713</th>\n",
       "      <td>ID124817R20</td>\n",
       "      <td>Male</td>\n",
       "      <td>Chandigarh</td>\n",
       "      <td>20500</td>\n",
       "      <td>09-Feb-84</td>\n",
       "      <td>31-Jul-15</td>\n",
       "      <td>0.0</td>\n",
       "      <td>0.0</td>\n",
       "      <td>0.0</td>\n",
       "      <td>MAX SUPER SPECIALITY HOSPITAL MOHALI</td>\n",
       "      <td>...</td>\n",
       "      <td>330000.0</td>\n",
       "      <td>4.0</td>\n",
       "      <td>31.5</td>\n",
       "      <td>6600.0</td>\n",
       "      <td>12171.60</td>\n",
       "      <td>Y</td>\n",
       "      <td>Mobile</td>\n",
       "      <td>G</td>\n",
       "      <td>S122</td>\n",
       "      <td>5</td>\n",
       "    </tr>\n",
       "    <tr>\n",
       "      <th>37714</th>\n",
       "      <td>ID124820U00</td>\n",
       "      <td>Male</td>\n",
       "      <td>Meerut</td>\n",
       "      <td>25000</td>\n",
       "      <td>18-Dec-69</td>\n",
       "      <td>31-Jul-15</td>\n",
       "      <td>0.0</td>\n",
       "      <td>0.0</td>\n",
       "      <td>0.0</td>\n",
       "      <td>C.I.S.F</td>\n",
       "      <td>...</td>\n",
       "      <td>390000.0</td>\n",
       "      <td>4.0</td>\n",
       "      <td>NaN</td>\n",
       "      <td>NaN</td>\n",
       "      <td>NaN</td>\n",
       "      <td>N</td>\n",
       "      <td>Mobile</td>\n",
       "      <td>G</td>\n",
       "      <td>S122</td>\n",
       "      <td>3</td>\n",
       "    </tr>\n",
       "    <tr>\n",
       "      <th>37715</th>\n",
       "      <td>ID124822W20</td>\n",
       "      <td>Female</td>\n",
       "      <td>Kolkata</td>\n",
       "      <td>130000</td>\n",
       "      <td>01-Jan-72</td>\n",
       "      <td>31-Jul-15</td>\n",
       "      <td>600000.0</td>\n",
       "      <td>0.0</td>\n",
       "      <td>67000.0</td>\n",
       "      <td>TATA STEEL LTD</td>\n",
       "      <td>...</td>\n",
       "      <td>NaN</td>\n",
       "      <td>NaN</td>\n",
       "      <td>NaN</td>\n",
       "      <td>NaN</td>\n",
       "      <td>NaN</td>\n",
       "      <td>N</td>\n",
       "      <td>Web-browser</td>\n",
       "      <td>G</td>\n",
       "      <td>S122</td>\n",
       "      <td>1</td>\n",
       "    </tr>\n",
       "    <tr>\n",
       "      <th>37716</th>\n",
       "      <td>ID124823X30</td>\n",
       "      <td>Male</td>\n",
       "      <td>Delhi</td>\n",
       "      <td>30000</td>\n",
       "      <td>04-Oct-88</td>\n",
       "      <td>31-Jul-15</td>\n",
       "      <td>100000.0</td>\n",
       "      <td>1.0</td>\n",
       "      <td>4364.0</td>\n",
       "      <td>NINE A BUSINESS CONNECT PRIVATE LIMTED</td>\n",
       "      <td>...</td>\n",
       "      <td>100000.0</td>\n",
       "      <td>1.0</td>\n",
       "      <td>NaN</td>\n",
       "      <td>NaN</td>\n",
       "      <td>NaN</td>\n",
       "      <td>N</td>\n",
       "      <td>Web-browser</td>\n",
       "      <td>G</td>\n",
       "      <td>S122</td>\n",
       "      <td>3</td>\n",
       "    </tr>\n",
       "  </tbody>\n",
       "</table>\n",
       "<p>37717 rows × 24 columns</p>\n",
       "</div>"
      ],
      "text/plain": [
       "                ID  Gender        City  Monthly_Income        DOB  \\\n",
       "0      ID000026A10    Male    Dehradun           21500  03-Apr-87   \n",
       "1      ID000054C40    Male      Mumbai           42000  12-May-80   \n",
       "2      ID000066O10  Female      Jaipur           10000  19-Sep-89   \n",
       "3      ID000110G00  Female     Chennai           14650  15-Aug-91   \n",
       "4      ID000113J30    Male     Chennai           23400  22-Jul-87   \n",
       "...            ...     ...         ...             ...        ...   \n",
       "37712  ID124809J40  Female       Ponda           40000  28-Dec-71   \n",
       "37713  ID124817R20    Male  Chandigarh           20500  09-Feb-84   \n",
       "37714  ID124820U00    Male      Meerut           25000  18-Dec-69   \n",
       "37715  ID124822W20  Female     Kolkata          130000  01-Jan-72   \n",
       "37716  ID124823X30    Male       Delhi           30000  04-Oct-88   \n",
       "\n",
       "      Lead_Creation_Date  Loan_Amount_Applied  Loan_Tenure_Applied  \\\n",
       "0              05-May-15             100000.0                  3.0   \n",
       "1              01-May-15                  0.0                  0.0   \n",
       "2              01-May-15             300000.0                  2.0   \n",
       "3              01-May-15                  0.0                  0.0   \n",
       "4              01-May-15             100000.0                  1.0   \n",
       "...                  ...                  ...                  ...   \n",
       "37712          31-Jul-15            1000000.0                  4.0   \n",
       "37713          31-Jul-15                  0.0                  0.0   \n",
       "37714          31-Jul-15                  0.0                  0.0   \n",
       "37715          31-Jul-15             600000.0                  0.0   \n",
       "37716          31-Jul-15             100000.0                  1.0   \n",
       "\n",
       "       Existing_EMI                           Employer_Name  ...  \\\n",
       "0               0.0                              APTARA INC  ...   \n",
       "1               0.0                                ATUL LTD  ...   \n",
       "2               0.0                       SHAREKHAN PVT LTD  ...   \n",
       "3               0.0           MAERSK GLOBAL SERVICE CENTRES  ...   \n",
       "4            5000.0                                  SCHAWK  ...   \n",
       "...             ...                                     ...  ...   \n",
       "37712       10000.0                           GOVT EMPLOYEE  ...   \n",
       "37713           0.0    MAX SUPER SPECIALITY HOSPITAL MOHALI  ...   \n",
       "37714           0.0                                 C.I.S.F  ...   \n",
       "37715       67000.0                          TATA STEEL LTD  ...   \n",
       "37716        4364.0  NINE A BUSINESS CONNECT PRIVATE LIMTED  ...   \n",
       "\n",
       "      Loan_Amount_Submitted Loan_Tenure_Submitted  Interest_Rate  \\\n",
       "0                  100000.0                   3.0           20.0   \n",
       "1                  690000.0                   5.0           24.0   \n",
       "2                       NaN                   NaN            NaN   \n",
       "3                       NaN                   NaN            NaN   \n",
       "4                  100000.0                   2.0            NaN   \n",
       "...                     ...                   ...            ...   \n",
       "37712                   NaN                   NaN            NaN   \n",
       "37713              330000.0                   4.0           31.5   \n",
       "37714              390000.0                   4.0            NaN   \n",
       "37715                   NaN                   NaN            NaN   \n",
       "37716              100000.0                   1.0            NaN   \n",
       "\n",
       "      Processing_Fee  EMI_Loan_Submitted  Filled_Form  Device_Type  Var2  \\\n",
       "0             1000.0             2649.39            N  Web-browser     B   \n",
       "1            13800.0            19849.90            Y       Mobile     C   \n",
       "2                NaN                 NaN            N  Web-browser     B   \n",
       "3                NaN                 NaN            N       Mobile     C   \n",
       "4                NaN                 NaN            N  Web-browser     B   \n",
       "...              ...                 ...          ...          ...   ...   \n",
       "37712            NaN                 NaN            N  Web-browser     G   \n",
       "37713         6600.0            12171.60            Y       Mobile     G   \n",
       "37714            NaN                 NaN            N       Mobile     G   \n",
       "37715            NaN                 NaN            N  Web-browser     G   \n",
       "37716            NaN                 NaN            N  Web-browser     G   \n",
       "\n",
       "       Source Var4  \n",
       "0        S122    3  \n",
       "1        S133    5  \n",
       "2        S133    1  \n",
       "3        S133    1  \n",
       "4        S143    1  \n",
       "...       ...  ...  \n",
       "37712    S122    3  \n",
       "37713    S122    5  \n",
       "37714    S122    3  \n",
       "37715    S122    1  \n",
       "37716    S122    3  \n",
       "\n",
       "[37717 rows x 24 columns]"
      ]
     },
     "execution_count": 49,
     "metadata": {},
     "output_type": "execute_result"
    }
   ],
   "source": [
    "test"
   ]
  },
  {
   "cell_type": "code",
   "execution_count": 50,
   "metadata": {},
   "outputs": [
    {
     "data": {
      "text/plain": [
       "Index(['ID', 'Gender', 'City', 'Monthly_Income', 'DOB', 'Lead_Creation_Date',\n",
       "       'Loan_Amount_Applied', 'Loan_Tenure_Applied', 'Existing_EMI',\n",
       "       'Employer_Name', 'Salary_Account', 'Mobile_Verified', 'Var5', 'Var1',\n",
       "       'Loan_Amount_Submitted', 'Loan_Tenure_Submitted', 'Interest_Rate',\n",
       "       'Processing_Fee', 'EMI_Loan_Submitted', 'Filled_Form', 'Device_Type',\n",
       "       'Var2', 'Source', 'Var4', 'LoggedIn', 'Disbursed'],\n",
       "      dtype='object')"
      ]
     },
     "execution_count": 50,
     "metadata": {},
     "output_type": "execute_result"
    }
   ],
   "source": [
    "train.keys()"
   ]
  },
  {
   "cell_type": "code",
   "execution_count": 51,
   "metadata": {},
   "outputs": [
    {
     "data": {
      "text/plain": [
       "Index(['ID', 'Gender', 'City', 'Monthly_Income', 'DOB', 'Lead_Creation_Date',\n",
       "       'Loan_Amount_Applied', 'Loan_Tenure_Applied', 'Existing_EMI',\n",
       "       'Employer_Name', 'Salary_Account', 'Mobile_Verified', 'Var5', 'Var1',\n",
       "       'Loan_Amount_Submitted', 'Loan_Tenure_Submitted', 'Interest_Rate',\n",
       "       'Processing_Fee', 'EMI_Loan_Submitted', 'Filled_Form', 'Device_Type',\n",
       "       'Var2', 'Source', 'Var4'],\n",
       "      dtype='object')"
      ]
     },
     "execution_count": 51,
     "metadata": {},
     "output_type": "execute_result"
    }
   ],
   "source": [
    "test.keys()"
   ]
  },
  {
   "cell_type": "code",
   "execution_count": 52,
   "metadata": {
    "colab": {
     "base_uri": "https://localhost:8080/"
    },
    "id": "EDYi5LkbW5MK",
    "outputId": "a48c13b4-433d-48da-aca4-65a9b38d1212"
   },
   "outputs": [],
   "source": [
    "for key in test.keys():\n",
    "    if key not in train.keys():\n",
    "        test = test.drop([key], axis=1)"
   ]
  },
  {
   "cell_type": "code",
   "execution_count": 53,
   "metadata": {},
   "outputs": [
    {
     "data": {
      "text/plain": [
       "Index(['ID', 'Gender', 'City', 'Monthly_Income', 'DOB', 'Lead_Creation_Date',\n",
       "       'Loan_Amount_Applied', 'Loan_Tenure_Applied', 'Existing_EMI',\n",
       "       'Employer_Name', 'Salary_Account', 'Mobile_Verified', 'Var5', 'Var1',\n",
       "       'Loan_Amount_Submitted', 'Loan_Tenure_Submitted', 'Interest_Rate',\n",
       "       'Processing_Fee', 'EMI_Loan_Submitted', 'Filled_Form', 'Device_Type',\n",
       "       'Var2', 'Source', 'Var4'],\n",
       "      dtype='object')"
      ]
     },
     "execution_count": 53,
     "metadata": {},
     "output_type": "execute_result"
    }
   ],
   "source": [
    "test.keys()"
   ]
  },
  {
   "cell_type": "code",
   "execution_count": 54,
   "metadata": {
    "id": "2rPuqDw_AnJH"
   },
   "outputs": [],
   "source": [
    "cities = make_cities_df(test['City'])\n",
    "count = calc_number_of_occurrences(test['City'], drop=True)\n",
    "cities = pd.concat([cities, count], axis=1)\n",
    "cities = create_categories(cities, Q1_cities, Q2_cities)\n",
    "\n",
    "size = {}\n",
    "for i, n in enumerate(cities['city_name']):\n",
    "    size[n] = cities['city_size'][i]\n",
    "\n",
    "test['City'] = test['City'].map(size).fillna('medium')"
   ]
  },
  {
   "cell_type": "code",
   "execution_count": 55,
   "metadata": {
    "id": "idjsAXpAA1yN"
   },
   "outputs": [],
   "source": [
    "years = []\n",
    "for year in test['Lead_Creation_Date']:\n",
    "    years.append(pd.Timestamp(year).year)\n",
    "\n",
    "test['age'] = date_to_years(test['DOB'], years)\n",
    "test = test.drop(['DOB'], axis=1)"
   ]
  },
  {
   "cell_type": "code",
   "execution_count": 56,
   "metadata": {
    "id": "mzeDKHK0BG0V"
   },
   "outputs": [],
   "source": [
    "count = calc_number_of_occurrences(test['Salary_Account'])\n",
    "count = create_categories_salary(count, Q1_Salary_Account, Q2_Salary_Account)\n",
    "size = {}\n",
    "for i, n in enumerate(count['name']):\n",
    "    size[n] = count['category'][i]\n",
    "size\n",
    "test['Salary_Account'] = test['Salary_Account'].map(size).fillna('big')"
   ]
  },
  {
   "cell_type": "code",
   "execution_count": 57,
   "metadata": {
    "id": "QeOJI06QBl-_"
   },
   "outputs": [],
   "source": [
    "test['Loan_Tenure_Applied'].loc[test['Loan_Tenure_Applied'].isnull()]\\\n",
    " = test['Loan_Tenure_Submitted'].loc[test['Loan_Tenure_Applied'].isnull()]\n",
    "\n",
    "test['Loan_Amount_Applied'].loc[test['Loan_Amount_Applied'].isnull()]\\\n",
    " = test['Loan_Amount_Submitted'].loc[test['Loan_Amount_Submitted'].isnull()]"
   ]
  },
  {
   "cell_type": "code",
   "execution_count": 58,
   "metadata": {
    "id": "fO_5-fFmCKk3"
   },
   "outputs": [],
   "source": [
    "test = test.drop(['Lead_Creation_Date'], axis=1)\n",
    "X_test = test.drop(['ID'], axis=1)"
   ]
  },
  {
   "cell_type": "code",
   "execution_count": 59,
   "metadata": {},
   "outputs": [],
   "source": [
    "X_test = test.drop(['ID'], axis=1)"
   ]
  },
  {
   "cell_type": "code",
   "execution_count": 60,
   "metadata": {
    "colab": {
     "base_uri": "https://localhost:8080/"
    },
    "id": "gNpfTqPJYnjT",
    "outputId": "e00b54a7-a6e3-4e2f-a449-024cfcff661c"
   },
   "outputs": [
    {
     "name": "stdout",
     "output_type": "stream",
     "text": [
      "<class 'pandas.core.frame.DataFrame'>\n",
      "RangeIndex: 37717 entries, 0 to 37716\n",
      "Data columns (total 36 columns):\n",
      " #   Column                   Non-Null Count  Dtype  \n",
      "---  ------                   --------------  -----  \n",
      " 0   Monthly_Income           37717 non-null  float64\n",
      " 1   Loan_Amount_Applied      37717 non-null  float64\n",
      " 2   Loan_Tenure_Applied      37717 non-null  float64\n",
      " 3   Existing_EMI             37717 non-null  float64\n",
      " 4   Var5                     37717 non-null  float64\n",
      " 5   Loan_Amount_Submitted    37717 non-null  float64\n",
      " 6   Loan_Tenure_Submitted    37717 non-null  float64\n",
      " 7   Interest_Rate            37717 non-null  float64\n",
      " 8   EMI_Loan_Submitted       37717 non-null  float64\n",
      " 9   age                      37717 non-null  float64\n",
      " 10  Gender_Male              37717 non-null  float64\n",
      " 11  Salary_Account_medium    37717 non-null  float64\n",
      " 12  Salary_Account_small     37717 non-null  float64\n",
      " 13  Mobile_Verified_Y        37717 non-null  float64\n",
      " 14  Var1_HAXA                37717 non-null  float64\n",
      " 15  Var1_HAXB                37717 non-null  float64\n",
      " 16  Var1_HAXM                37717 non-null  float64\n",
      " 17  Var1_HAYT                37717 non-null  float64\n",
      " 18  Var1_HAZD                37717 non-null  float64\n",
      " 19  Var1_HBXA                37717 non-null  float64\n",
      " 20  Var1_HBXB                37717 non-null  float64\n",
      " 21  Var1_HBXC                37717 non-null  float64\n",
      " 22  Var1_HBXD                37717 non-null  float64\n",
      " 23  Var1_HBXH                37717 non-null  float64\n",
      " 24  Var1_HBXX                37717 non-null  float64\n",
      " 25  Var1_HCXD                37717 non-null  float64\n",
      " 26  Var1_HCXF                37717 non-null  float64\n",
      " 27  Var1_HCXG                37717 non-null  float64\n",
      " 28  Var1_HCYS                37717 non-null  float64\n",
      " 29  Var1_HVYS                37717 non-null  float64\n",
      " 30  Filled_Form_Y            37717 non-null  float64\n",
      " 31  Device_Type_Web-browser  37717 non-null  float64\n",
      " 32  Var2_C                   37717 non-null  float64\n",
      " 33  Var2_E                   37717 non-null  float64\n",
      " 34  Var2_F                   37717 non-null  float64\n",
      " 35  Var2_G                   37717 non-null  float64\n",
      "dtypes: float64(36)\n",
      "memory usage: 10.4 MB\n"
     ]
    },
    {
     "name": "stderr",
     "output_type": "stream",
     "text": [
      "D:\\anaconda\\envs\\myenv\\lib\\site-packages\\sklearn\\preprocessing\\_encoders.py:188: UserWarning: Found unknown categories in columns [3, 6] during transform. These unknown categories will be encoded as all zeros\n",
      "  warnings.warn(\n"
     ]
    }
   ],
   "source": [
    "X_test = pipe_vif.transform(X_test)\n",
    "X_test.info()"
   ]
  },
  {
   "cell_type": "code",
   "execution_count": 61,
   "metadata": {},
   "outputs": [],
   "source": [
    "for key in X_test.keys():\n",
    "    if key not in X.keys():\n",
    "        X_test = X_test.drop([key], axis=1)\n",
    "for key in X.keys():\n",
    "    if key not in X_test.keys():\n",
    "        X_test[key] = 0"
   ]
  },
  {
   "cell_type": "code",
   "execution_count": 62,
   "metadata": {
    "colab": {
     "base_uri": "https://localhost:8080/",
     "height": 380
    },
    "id": "fuDlunhPHJ6V",
    "outputId": "9c6d5767-b4c3-4561-fe26-91707e5a36a6"
   },
   "outputs": [
    {
     "data": {
      "text/html": [
       "<div>\n",
       "<style scoped>\n",
       "    .dataframe tbody tr th:only-of-type {\n",
       "        vertical-align: middle;\n",
       "    }\n",
       "\n",
       "    .dataframe tbody tr th {\n",
       "        vertical-align: top;\n",
       "    }\n",
       "\n",
       "    .dataframe thead th {\n",
       "        text-align: right;\n",
       "    }\n",
       "</style>\n",
       "<table border=\"1\" class=\"dataframe\">\n",
       "  <thead>\n",
       "    <tr style=\"text-align: right;\">\n",
       "      <th></th>\n",
       "      <th>LoggedIn</th>\n",
       "      <th>Disbursed</th>\n",
       "    </tr>\n",
       "  </thead>\n",
       "  <tbody>\n",
       "    <tr>\n",
       "      <th>0</th>\n",
       "      <td>ID000026A10</td>\n",
       "      <td>0</td>\n",
       "    </tr>\n",
       "    <tr>\n",
       "      <th>1</th>\n",
       "      <td>ID000054C40</td>\n",
       "      <td>0</td>\n",
       "    </tr>\n",
       "    <tr>\n",
       "      <th>2</th>\n",
       "      <td>ID000066O10</td>\n",
       "      <td>0</td>\n",
       "    </tr>\n",
       "    <tr>\n",
       "      <th>3</th>\n",
       "      <td>ID000110G00</td>\n",
       "      <td>0</td>\n",
       "    </tr>\n",
       "    <tr>\n",
       "      <th>4</th>\n",
       "      <td>ID000113J30</td>\n",
       "      <td>0</td>\n",
       "    </tr>\n",
       "    <tr>\n",
       "      <th>...</th>\n",
       "      <td>...</td>\n",
       "      <td>...</td>\n",
       "    </tr>\n",
       "    <tr>\n",
       "      <th>37712</th>\n",
       "      <td>ID124809J40</td>\n",
       "      <td>0</td>\n",
       "    </tr>\n",
       "    <tr>\n",
       "      <th>37713</th>\n",
       "      <td>ID124817R20</td>\n",
       "      <td>0</td>\n",
       "    </tr>\n",
       "    <tr>\n",
       "      <th>37714</th>\n",
       "      <td>ID124820U00</td>\n",
       "      <td>0</td>\n",
       "    </tr>\n",
       "    <tr>\n",
       "      <th>37715</th>\n",
       "      <td>ID124822W20</td>\n",
       "      <td>0</td>\n",
       "    </tr>\n",
       "    <tr>\n",
       "      <th>37716</th>\n",
       "      <td>ID124823X30</td>\n",
       "      <td>0</td>\n",
       "    </tr>\n",
       "  </tbody>\n",
       "</table>\n",
       "<p>37717 rows × 2 columns</p>\n",
       "</div>"
      ],
      "text/plain": [
       "          LoggedIn  Disbursed\n",
       "0      ID000026A10          0\n",
       "1      ID000054C40          0\n",
       "2      ID000066O10          0\n",
       "3      ID000110G00          0\n",
       "4      ID000113J30          0\n",
       "...            ...        ...\n",
       "37712  ID124809J40          0\n",
       "37713  ID124817R20          0\n",
       "37714  ID124820U00          0\n",
       "37715  ID124822W20          0\n",
       "37716  ID124823X30          0\n",
       "\n",
       "[37717 rows x 2 columns]"
      ]
     },
     "execution_count": 62,
     "metadata": {},
     "output_type": "execute_result"
    }
   ],
   "source": [
    "results = pd.DataFrame({'LoggedIn' : test['ID'], 'Disbursed' : pipe_model.predict(X_test)})\n",
    "results"
   ]
  },
  {
   "cell_type": "code",
   "execution_count": 63,
   "metadata": {},
   "outputs": [
    {
     "data": {
      "text/plain": [
       "9"
      ]
     },
     "execution_count": 63,
     "metadata": {},
     "output_type": "execute_result"
    }
   ],
   "source": [
    "results['Disbursed'].sum()"
   ]
  }
 ],
 "metadata": {
  "colab": {
   "collapsed_sections": [
    "__h-0XmHvoKg",
    "gLujAWgKwvx2",
    "lqeDpbQayVVM",
    "KFDFjNZV6dJL"
   ],
   "name": "Happy Customer Bank_ver2.0.ipynb",
   "provenance": []
  },
  "kernelspec": {
   "display_name": "Python 3 (ipykernel)",
   "language": "python",
   "name": "python3"
  },
  "language_info": {
   "codemirror_mode": {
    "name": "ipython",
    "version": 3
   },
   "file_extension": ".py",
   "mimetype": "text/x-python",
   "name": "python",
   "nbconvert_exporter": "python",
   "pygments_lexer": "ipython3",
   "version": "3.10.4"
  }
 },
 "nbformat": 4,
 "nbformat_minor": 1
}
